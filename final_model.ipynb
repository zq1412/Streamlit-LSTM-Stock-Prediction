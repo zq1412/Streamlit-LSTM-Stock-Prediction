{
  "nbformat": 4,
  "nbformat_minor": 0,
  "metadata": {
    "colab": {
      "provenance": [],
      "include_colab_link": true
    },
    "kernelspec": {
      "name": "python3",
      "display_name": "Python 3"
    },
    "language_info": {
      "name": "python"
    },
    "widgets": {
      "application/vnd.jupyter.widget-state+json": {
        "16270b7480214a81806acdd1248aab69": {
          "model_module": "@jupyter-widgets/controls",
          "model_name": "HBoxModel",
          "model_module_version": "1.5.0",
          "state": {
            "_dom_classes": [],
            "_model_module": "@jupyter-widgets/controls",
            "_model_module_version": "1.5.0",
            "_model_name": "HBoxModel",
            "_view_count": null,
            "_view_module": "@jupyter-widgets/controls",
            "_view_module_version": "1.5.0",
            "_view_name": "HBoxView",
            "box_style": "",
            "children": [
              "IPY_MODEL_ef75406d90604a769b0b1ddf777b47fd",
              "IPY_MODEL_4e02c114487249eb8f33ef0446c3c042",
              "IPY_MODEL_004a737baf144034912a266084a144b2"
            ],
            "layout": "IPY_MODEL_464e416f813c47d29e35915d3d60f4a6"
          }
        },
        "ef75406d90604a769b0b1ddf777b47fd": {
          "model_module": "@jupyter-widgets/controls",
          "model_name": "HTMLModel",
          "model_module_version": "1.5.0",
          "state": {
            "_dom_classes": [],
            "_model_module": "@jupyter-widgets/controls",
            "_model_module_version": "1.5.0",
            "_model_name": "HTMLModel",
            "_view_count": null,
            "_view_module": "@jupyter-widgets/controls",
            "_view_module_version": "1.5.0",
            "_view_name": "HTMLView",
            "description": "",
            "description_tooltip": null,
            "layout": "IPY_MODEL_626f0a53b6b1487e88be157bae574cb1",
            "placeholder": "​",
            "style": "IPY_MODEL_6a896630a41a47b69b17982ec509872a",
            "value": "Epoch 9: 100%"
          }
        },
        "4e02c114487249eb8f33ef0446c3c042": {
          "model_module": "@jupyter-widgets/controls",
          "model_name": "FloatProgressModel",
          "model_module_version": "1.5.0",
          "state": {
            "_dom_classes": [],
            "_model_module": "@jupyter-widgets/controls",
            "_model_module_version": "1.5.0",
            "_model_name": "FloatProgressModel",
            "_view_count": null,
            "_view_module": "@jupyter-widgets/controls",
            "_view_module_version": "1.5.0",
            "_view_name": "ProgressView",
            "bar_style": "success",
            "description": "",
            "description_tooltip": null,
            "layout": "IPY_MODEL_e1c9045b352d472881a349e5650273e8",
            "max": 17,
            "min": 0,
            "orientation": "horizontal",
            "style": "IPY_MODEL_41c0acf9aefc445297d8c8c77ca56b4d",
            "value": 17
          }
        },
        "004a737baf144034912a266084a144b2": {
          "model_module": "@jupyter-widgets/controls",
          "model_name": "HTMLModel",
          "model_module_version": "1.5.0",
          "state": {
            "_dom_classes": [],
            "_model_module": "@jupyter-widgets/controls",
            "_model_module_version": "1.5.0",
            "_model_name": "HTMLModel",
            "_view_count": null,
            "_view_module": "@jupyter-widgets/controls",
            "_view_module_version": "1.5.0",
            "_view_name": "HTMLView",
            "description": "",
            "description_tooltip": null,
            "layout": "IPY_MODEL_d4473a0cab65436893b907f4465fefe8",
            "placeholder": "​",
            "style": "IPY_MODEL_9cdffc10efc54ef5add3358dddefb2be",
            "value": " 17/17 [00:00&lt;00:00, 27.43it/s, v_num=logs, train_loss=0.0595]"
          }
        },
        "464e416f813c47d29e35915d3d60f4a6": {
          "model_module": "@jupyter-widgets/base",
          "model_name": "LayoutModel",
          "model_module_version": "1.2.0",
          "state": {
            "_model_module": "@jupyter-widgets/base",
            "_model_module_version": "1.2.0",
            "_model_name": "LayoutModel",
            "_view_count": null,
            "_view_module": "@jupyter-widgets/base",
            "_view_module_version": "1.2.0",
            "_view_name": "LayoutView",
            "align_content": null,
            "align_items": null,
            "align_self": null,
            "border": null,
            "bottom": null,
            "display": "inline-flex",
            "flex": null,
            "flex_flow": "row wrap",
            "grid_area": null,
            "grid_auto_columns": null,
            "grid_auto_flow": null,
            "grid_auto_rows": null,
            "grid_column": null,
            "grid_gap": null,
            "grid_row": null,
            "grid_template_areas": null,
            "grid_template_columns": null,
            "grid_template_rows": null,
            "height": null,
            "justify_content": null,
            "justify_items": null,
            "left": null,
            "margin": null,
            "max_height": null,
            "max_width": null,
            "min_height": null,
            "min_width": null,
            "object_fit": null,
            "object_position": null,
            "order": null,
            "overflow": null,
            "overflow_x": null,
            "overflow_y": null,
            "padding": null,
            "right": null,
            "top": null,
            "visibility": null,
            "width": "100%"
          }
        },
        "626f0a53b6b1487e88be157bae574cb1": {
          "model_module": "@jupyter-widgets/base",
          "model_name": "LayoutModel",
          "model_module_version": "1.2.0",
          "state": {
            "_model_module": "@jupyter-widgets/base",
            "_model_module_version": "1.2.0",
            "_model_name": "LayoutModel",
            "_view_count": null,
            "_view_module": "@jupyter-widgets/base",
            "_view_module_version": "1.2.0",
            "_view_name": "LayoutView",
            "align_content": null,
            "align_items": null,
            "align_self": null,
            "border": null,
            "bottom": null,
            "display": null,
            "flex": null,
            "flex_flow": null,
            "grid_area": null,
            "grid_auto_columns": null,
            "grid_auto_flow": null,
            "grid_auto_rows": null,
            "grid_column": null,
            "grid_gap": null,
            "grid_row": null,
            "grid_template_areas": null,
            "grid_template_columns": null,
            "grid_template_rows": null,
            "height": null,
            "justify_content": null,
            "justify_items": null,
            "left": null,
            "margin": null,
            "max_height": null,
            "max_width": null,
            "min_height": null,
            "min_width": null,
            "object_fit": null,
            "object_position": null,
            "order": null,
            "overflow": null,
            "overflow_x": null,
            "overflow_y": null,
            "padding": null,
            "right": null,
            "top": null,
            "visibility": null,
            "width": null
          }
        },
        "6a896630a41a47b69b17982ec509872a": {
          "model_module": "@jupyter-widgets/controls",
          "model_name": "DescriptionStyleModel",
          "model_module_version": "1.5.0",
          "state": {
            "_model_module": "@jupyter-widgets/controls",
            "_model_module_version": "1.5.0",
            "_model_name": "DescriptionStyleModel",
            "_view_count": null,
            "_view_module": "@jupyter-widgets/base",
            "_view_module_version": "1.2.0",
            "_view_name": "StyleView",
            "description_width": ""
          }
        },
        "e1c9045b352d472881a349e5650273e8": {
          "model_module": "@jupyter-widgets/base",
          "model_name": "LayoutModel",
          "model_module_version": "1.2.0",
          "state": {
            "_model_module": "@jupyter-widgets/base",
            "_model_module_version": "1.2.0",
            "_model_name": "LayoutModel",
            "_view_count": null,
            "_view_module": "@jupyter-widgets/base",
            "_view_module_version": "1.2.0",
            "_view_name": "LayoutView",
            "align_content": null,
            "align_items": null,
            "align_self": null,
            "border": null,
            "bottom": null,
            "display": null,
            "flex": "2",
            "flex_flow": null,
            "grid_area": null,
            "grid_auto_columns": null,
            "grid_auto_flow": null,
            "grid_auto_rows": null,
            "grid_column": null,
            "grid_gap": null,
            "grid_row": null,
            "grid_template_areas": null,
            "grid_template_columns": null,
            "grid_template_rows": null,
            "height": null,
            "justify_content": null,
            "justify_items": null,
            "left": null,
            "margin": null,
            "max_height": null,
            "max_width": null,
            "min_height": null,
            "min_width": null,
            "object_fit": null,
            "object_position": null,
            "order": null,
            "overflow": null,
            "overflow_x": null,
            "overflow_y": null,
            "padding": null,
            "right": null,
            "top": null,
            "visibility": null,
            "width": null
          }
        },
        "41c0acf9aefc445297d8c8c77ca56b4d": {
          "model_module": "@jupyter-widgets/controls",
          "model_name": "ProgressStyleModel",
          "model_module_version": "1.5.0",
          "state": {
            "_model_module": "@jupyter-widgets/controls",
            "_model_module_version": "1.5.0",
            "_model_name": "ProgressStyleModel",
            "_view_count": null,
            "_view_module": "@jupyter-widgets/base",
            "_view_module_version": "1.2.0",
            "_view_name": "StyleView",
            "bar_color": null,
            "description_width": ""
          }
        },
        "d4473a0cab65436893b907f4465fefe8": {
          "model_module": "@jupyter-widgets/base",
          "model_name": "LayoutModel",
          "model_module_version": "1.2.0",
          "state": {
            "_model_module": "@jupyter-widgets/base",
            "_model_module_version": "1.2.0",
            "_model_name": "LayoutModel",
            "_view_count": null,
            "_view_module": "@jupyter-widgets/base",
            "_view_module_version": "1.2.0",
            "_view_name": "LayoutView",
            "align_content": null,
            "align_items": null,
            "align_self": null,
            "border": null,
            "bottom": null,
            "display": null,
            "flex": null,
            "flex_flow": null,
            "grid_area": null,
            "grid_auto_columns": null,
            "grid_auto_flow": null,
            "grid_auto_rows": null,
            "grid_column": null,
            "grid_gap": null,
            "grid_row": null,
            "grid_template_areas": null,
            "grid_template_columns": null,
            "grid_template_rows": null,
            "height": null,
            "justify_content": null,
            "justify_items": null,
            "left": null,
            "margin": null,
            "max_height": null,
            "max_width": null,
            "min_height": null,
            "min_width": null,
            "object_fit": null,
            "object_position": null,
            "order": null,
            "overflow": null,
            "overflow_x": null,
            "overflow_y": null,
            "padding": null,
            "right": null,
            "top": null,
            "visibility": null,
            "width": null
          }
        },
        "9cdffc10efc54ef5add3358dddefb2be": {
          "model_module": "@jupyter-widgets/controls",
          "model_name": "DescriptionStyleModel",
          "model_module_version": "1.5.0",
          "state": {
            "_model_module": "@jupyter-widgets/controls",
            "_model_module_version": "1.5.0",
            "_model_name": "DescriptionStyleModel",
            "_view_count": null,
            "_view_module": "@jupyter-widgets/base",
            "_view_module_version": "1.2.0",
            "_view_name": "StyleView",
            "description_width": ""
          }
        },
        "d4850b1cfd834a349fbc5961dc4defc1": {
          "model_module": "@jupyter-widgets/controls",
          "model_name": "HBoxModel",
          "model_module_version": "1.5.0",
          "state": {
            "_dom_classes": [],
            "_model_module": "@jupyter-widgets/controls",
            "_model_module_version": "1.5.0",
            "_model_name": "HBoxModel",
            "_view_count": null,
            "_view_module": "@jupyter-widgets/controls",
            "_view_module_version": "1.5.0",
            "_view_name": "HBoxView",
            "box_style": "",
            "children": [
              "IPY_MODEL_c924d64123e1475d84ccd34e6c01d3e8",
              "IPY_MODEL_cee3e3e27e114661a421c70cf1680fdb",
              "IPY_MODEL_6e51beb990584455b88436eb0886ef8c"
            ],
            "layout": "IPY_MODEL_f61edd6ee24e498bb137343610cfe55f"
          }
        },
        "c924d64123e1475d84ccd34e6c01d3e8": {
          "model_module": "@jupyter-widgets/controls",
          "model_name": "HTMLModel",
          "model_module_version": "1.5.0",
          "state": {
            "_dom_classes": [],
            "_model_module": "@jupyter-widgets/controls",
            "_model_module_version": "1.5.0",
            "_model_name": "HTMLModel",
            "_view_count": null,
            "_view_module": "@jupyter-widgets/controls",
            "_view_module_version": "1.5.0",
            "_view_name": "HTMLView",
            "description": "",
            "description_tooltip": null,
            "layout": "IPY_MODEL_2041218d4327438fba03ea68d778eaf9",
            "placeholder": "​",
            "style": "IPY_MODEL_f5f2392bd7704dbd9f25d699a7c88221",
            "value": "Predicting DataLoader 0: 100%"
          }
        },
        "cee3e3e27e114661a421c70cf1680fdb": {
          "model_module": "@jupyter-widgets/controls",
          "model_name": "FloatProgressModel",
          "model_module_version": "1.5.0",
          "state": {
            "_dom_classes": [],
            "_model_module": "@jupyter-widgets/controls",
            "_model_module_version": "1.5.0",
            "_model_name": "FloatProgressModel",
            "_view_count": null,
            "_view_module": "@jupyter-widgets/controls",
            "_view_module_version": "1.5.0",
            "_view_name": "ProgressView",
            "bar_style": "success",
            "description": "",
            "description_tooltip": null,
            "layout": "IPY_MODEL_3e5471412b4e4145a9d789840d03a783",
            "max": 1,
            "min": 0,
            "orientation": "horizontal",
            "style": "IPY_MODEL_4d1fb3d4e71e4724a8fd813b34c9b7aa",
            "value": 1
          }
        },
        "6e51beb990584455b88436eb0886ef8c": {
          "model_module": "@jupyter-widgets/controls",
          "model_name": "HTMLModel",
          "model_module_version": "1.5.0",
          "state": {
            "_dom_classes": [],
            "_model_module": "@jupyter-widgets/controls",
            "_model_module_version": "1.5.0",
            "_model_name": "HTMLModel",
            "_view_count": null,
            "_view_module": "@jupyter-widgets/controls",
            "_view_module_version": "1.5.0",
            "_view_name": "HTMLView",
            "description": "",
            "description_tooltip": null,
            "layout": "IPY_MODEL_8cea4dbc1b564503b5bb96826f88d84e",
            "placeholder": "​",
            "style": "IPY_MODEL_c9e1663130ba4cb5bf740b5101b0506a",
            "value": " 1/1 [00:00&lt;00:00, 18.09it/s]"
          }
        },
        "f61edd6ee24e498bb137343610cfe55f": {
          "model_module": "@jupyter-widgets/base",
          "model_name": "LayoutModel",
          "model_module_version": "1.2.0",
          "state": {
            "_model_module": "@jupyter-widgets/base",
            "_model_module_version": "1.2.0",
            "_model_name": "LayoutModel",
            "_view_count": null,
            "_view_module": "@jupyter-widgets/base",
            "_view_module_version": "1.2.0",
            "_view_name": "LayoutView",
            "align_content": null,
            "align_items": null,
            "align_self": null,
            "border": null,
            "bottom": null,
            "display": "inline-flex",
            "flex": null,
            "flex_flow": "row wrap",
            "grid_area": null,
            "grid_auto_columns": null,
            "grid_auto_flow": null,
            "grid_auto_rows": null,
            "grid_column": null,
            "grid_gap": null,
            "grid_row": null,
            "grid_template_areas": null,
            "grid_template_columns": null,
            "grid_template_rows": null,
            "height": null,
            "justify_content": null,
            "justify_items": null,
            "left": null,
            "margin": null,
            "max_height": null,
            "max_width": null,
            "min_height": null,
            "min_width": null,
            "object_fit": null,
            "object_position": null,
            "order": null,
            "overflow": null,
            "overflow_x": null,
            "overflow_y": null,
            "padding": null,
            "right": null,
            "top": null,
            "visibility": null,
            "width": "100%"
          }
        },
        "2041218d4327438fba03ea68d778eaf9": {
          "model_module": "@jupyter-widgets/base",
          "model_name": "LayoutModel",
          "model_module_version": "1.2.0",
          "state": {
            "_model_module": "@jupyter-widgets/base",
            "_model_module_version": "1.2.0",
            "_model_name": "LayoutModel",
            "_view_count": null,
            "_view_module": "@jupyter-widgets/base",
            "_view_module_version": "1.2.0",
            "_view_name": "LayoutView",
            "align_content": null,
            "align_items": null,
            "align_self": null,
            "border": null,
            "bottom": null,
            "display": null,
            "flex": null,
            "flex_flow": null,
            "grid_area": null,
            "grid_auto_columns": null,
            "grid_auto_flow": null,
            "grid_auto_rows": null,
            "grid_column": null,
            "grid_gap": null,
            "grid_row": null,
            "grid_template_areas": null,
            "grid_template_columns": null,
            "grid_template_rows": null,
            "height": null,
            "justify_content": null,
            "justify_items": null,
            "left": null,
            "margin": null,
            "max_height": null,
            "max_width": null,
            "min_height": null,
            "min_width": null,
            "object_fit": null,
            "object_position": null,
            "order": null,
            "overflow": null,
            "overflow_x": null,
            "overflow_y": null,
            "padding": null,
            "right": null,
            "top": null,
            "visibility": null,
            "width": null
          }
        },
        "f5f2392bd7704dbd9f25d699a7c88221": {
          "model_module": "@jupyter-widgets/controls",
          "model_name": "DescriptionStyleModel",
          "model_module_version": "1.5.0",
          "state": {
            "_model_module": "@jupyter-widgets/controls",
            "_model_module_version": "1.5.0",
            "_model_name": "DescriptionStyleModel",
            "_view_count": null,
            "_view_module": "@jupyter-widgets/base",
            "_view_module_version": "1.2.0",
            "_view_name": "StyleView",
            "description_width": ""
          }
        },
        "3e5471412b4e4145a9d789840d03a783": {
          "model_module": "@jupyter-widgets/base",
          "model_name": "LayoutModel",
          "model_module_version": "1.2.0",
          "state": {
            "_model_module": "@jupyter-widgets/base",
            "_model_module_version": "1.2.0",
            "_model_name": "LayoutModel",
            "_view_count": null,
            "_view_module": "@jupyter-widgets/base",
            "_view_module_version": "1.2.0",
            "_view_name": "LayoutView",
            "align_content": null,
            "align_items": null,
            "align_self": null,
            "border": null,
            "bottom": null,
            "display": null,
            "flex": "2",
            "flex_flow": null,
            "grid_area": null,
            "grid_auto_columns": null,
            "grid_auto_flow": null,
            "grid_auto_rows": null,
            "grid_column": null,
            "grid_gap": null,
            "grid_row": null,
            "grid_template_areas": null,
            "grid_template_columns": null,
            "grid_template_rows": null,
            "height": null,
            "justify_content": null,
            "justify_items": null,
            "left": null,
            "margin": null,
            "max_height": null,
            "max_width": null,
            "min_height": null,
            "min_width": null,
            "object_fit": null,
            "object_position": null,
            "order": null,
            "overflow": null,
            "overflow_x": null,
            "overflow_y": null,
            "padding": null,
            "right": null,
            "top": null,
            "visibility": null,
            "width": null
          }
        },
        "4d1fb3d4e71e4724a8fd813b34c9b7aa": {
          "model_module": "@jupyter-widgets/controls",
          "model_name": "ProgressStyleModel",
          "model_module_version": "1.5.0",
          "state": {
            "_model_module": "@jupyter-widgets/controls",
            "_model_module_version": "1.5.0",
            "_model_name": "ProgressStyleModel",
            "_view_count": null,
            "_view_module": "@jupyter-widgets/base",
            "_view_module_version": "1.2.0",
            "_view_name": "StyleView",
            "bar_color": null,
            "description_width": ""
          }
        },
        "8cea4dbc1b564503b5bb96826f88d84e": {
          "model_module": "@jupyter-widgets/base",
          "model_name": "LayoutModel",
          "model_module_version": "1.2.0",
          "state": {
            "_model_module": "@jupyter-widgets/base",
            "_model_module_version": "1.2.0",
            "_model_name": "LayoutModel",
            "_view_count": null,
            "_view_module": "@jupyter-widgets/base",
            "_view_module_version": "1.2.0",
            "_view_name": "LayoutView",
            "align_content": null,
            "align_items": null,
            "align_self": null,
            "border": null,
            "bottom": null,
            "display": null,
            "flex": null,
            "flex_flow": null,
            "grid_area": null,
            "grid_auto_columns": null,
            "grid_auto_flow": null,
            "grid_auto_rows": null,
            "grid_column": null,
            "grid_gap": null,
            "grid_row": null,
            "grid_template_areas": null,
            "grid_template_columns": null,
            "grid_template_rows": null,
            "height": null,
            "justify_content": null,
            "justify_items": null,
            "left": null,
            "margin": null,
            "max_height": null,
            "max_width": null,
            "min_height": null,
            "min_width": null,
            "object_fit": null,
            "object_position": null,
            "order": null,
            "overflow": null,
            "overflow_x": null,
            "overflow_y": null,
            "padding": null,
            "right": null,
            "top": null,
            "visibility": null,
            "width": null
          }
        },
        "c9e1663130ba4cb5bf740b5101b0506a": {
          "model_module": "@jupyter-widgets/controls",
          "model_name": "DescriptionStyleModel",
          "model_module_version": "1.5.0",
          "state": {
            "_model_module": "@jupyter-widgets/controls",
            "_model_module_version": "1.5.0",
            "_model_name": "DescriptionStyleModel",
            "_view_count": null,
            "_view_module": "@jupyter-widgets/base",
            "_view_module_version": "1.2.0",
            "_view_name": "StyleView",
            "description_width": ""
          }
        }
      }
    }
  },
  "cells": [
    {
      "cell_type": "markdown",
      "metadata": {
        "id": "view-in-github",
        "colab_type": "text"
      },
      "source": [
        "<a href=\"https://colab.research.google.com/github/zq1412/StreamlitLSTMStockPrediction/blob/main/final_model.ipynb\" target=\"_parent\"><img src=\"https://colab.research.google.com/assets/colab-badge.svg\" alt=\"Open In Colab\"/></a>"
      ]
    },
    {
      "cell_type": "markdown",
      "source": [
        "## Import Relevant Libraries "
      ],
      "metadata": {
        "id": "glSPV-0-mnOc"
      }
    },
    {
      "cell_type": "code",
      "source": [
        "from datetime import datetime\n",
        "from datetime import timedelta\n",
        "from dateutil.relativedelta import relativedelta\n",
        "\n",
        "import torch\n",
        "import torch.nn as nn\n",
        "import torch.optim as optim\n",
        "import numpy as np\n",
        "import pandas as pd\n",
        "from sklearn.preprocessing import MinMaxScaler\n",
        "import matplotlib.pyplot as plt\n",
        "\n",
        "from darts import TimeSeries\n",
        "from darts.models import RNNModel\n",
        "from darts.metrics import mape\n",
        "from darts.utils.timeseries_generation import datetime_attribute_timeseries\n",
        "from darts.models import forecasting\n",
        "from darts.dataprocessing.transformers import Scaler, MissingValuesFiller\n",
        "\n",
        "\n",
        "import yfinance as yf"
      ],
      "metadata": {
        "id": "ZLtv6jsXEvbJ"
      },
      "execution_count": 138,
      "outputs": []
    },
    {
      "cell_type": "markdown",
      "source": [
        "## Data Pre-Processing "
      ],
      "metadata": {
        "id": "KRM2EOmKm1Fb"
      }
    },
    {
      "cell_type": "code",
      "source": [
        "#Getting date from one year ago\n",
        "one_year_ago = datetime.now() - relativedelta(years=1) \n",
        "one_year_ago = one_year_ago.strftime(\"%Y-%m-%d\")\n",
        "\n",
        "#Getting date today\n",
        "today = datetime.now()\n",
        "today = today.strftime(\"%Y-%m-%d\")\n",
        "\n",
        "#Adding one day to the date one year ago \n",
        "one_year_ago_plus_one = datetime.now() - relativedelta(years=1) + timedelta(days=1)\n",
        "one_year_ago_plus_one = one_year_ago_plus_one.strftime(\"%Y-%m-%d\")\n",
        "\n",
        "#Accessing YFinance\n",
        "ticker= yf.Ticker(\"fico\")\n",
        "\n",
        "#Getting pandas dataframe of stock data from one year ago\n",
        "df = ticker.history(start=one_year_ago, end=today, interval=\"1d\")\n",
        "idx = pd.date_range(start=one_year_ago_plus_one, end=today)\n",
        "\n",
        "\n",
        "\n",
        "\n",
        "#Making index into Datetime index\n",
        "df.index = pd.DatetimeIndex(df.index)\n",
        "df.index = df.index.tz_localize(None) \n",
        "\n",
        "#Reindexing dataframe to fill in missing dates due to stock market closing on weekends\n",
        "df = df.reindex(idx, method = 'pad')\n",
        "\n",
        "\n",
        "print(df)\n",
        "\n"
      ],
      "metadata": {
        "id": "Ml966o7nGiNh",
        "colab": {
          "base_uri": "https://localhost:8080/"
        },
        "outputId": "06d7cecf-4192-4f30-b8cb-986d962d459b"
      },
      "execution_count": 139,
      "outputs": [
        {
          "output_type": "stream",
          "name": "stdout",
          "text": [
            "                  Open        High         Low       Close  Volume  Dividends  \\\n",
            "2022-05-09  345.649994  350.619995  340.480011  341.440002  303100        0.0   \n",
            "2022-05-10  347.730011  362.040009  345.440002  358.410004  357800        0.0   \n",
            "2022-05-11  353.450012  364.309998  349.170013  351.089996  250300        0.0   \n",
            "2022-05-12  347.239990  357.769989  346.660004  352.730011  244900        0.0   \n",
            "2022-05-13  356.640015  365.700012  352.809998  361.529999  189900        0.0   \n",
            "...                ...         ...         ...         ...     ...        ...   \n",
            "2023-05-04  748.669983  760.150024  736.000000  736.650024  208100        0.0   \n",
            "2023-05-05  739.919983  743.369995  730.330017  731.979980  148300        0.0   \n",
            "2023-05-06  739.919983  743.369995  730.330017  731.979980  148300        0.0   \n",
            "2023-05-07  739.919983  743.369995  730.330017  731.979980  148300        0.0   \n",
            "2023-05-08  739.919983  743.369995  730.330017  731.979980  148300        0.0   \n",
            "\n",
            "            Stock Splits  \n",
            "2022-05-09           0.0  \n",
            "2022-05-10           0.0  \n",
            "2022-05-11           0.0  \n",
            "2022-05-12           0.0  \n",
            "2022-05-13           0.0  \n",
            "...                  ...  \n",
            "2023-05-04           0.0  \n",
            "2023-05-05           0.0  \n",
            "2023-05-06           0.0  \n",
            "2023-05-07           0.0  \n",
            "2023-05-08           0.0  \n",
            "\n",
            "[365 rows x 7 columns]\n"
          ]
        }
      ]
    },
    {
      "cell_type": "code",
      "source": [
        "#Put dataframe into a Darts \"Timeseries\" object so that data can be fed into a Darts forecasting model. For more information on Timeseries objects, please look here: https://unit8co.github.io/darts/generated_api/darts.timeseries.html \n",
        "series = TimeSeries.from_dataframe(df)\n",
        "\n",
        "#Drop all columns besides \"Close\" Column\n",
        "adj_series = series.drop_columns(['Open', 'High', 'Low', 'Volume', 'Dividends', 'Stock Splits'])"
      ],
      "metadata": {
        "id": "9G58RYxrpANW"
      },
      "execution_count": 140,
      "outputs": []
    },
    {
      "cell_type": "code",
      "source": [
        "\n",
        "#Divide dataset into training and validation/testing sets. \"Split_after\" function is a method of a Darts Timeseries object. https://unit8co.github.io/darts/generated_api/darts.timeseries.html#darts.timeseries.TimeSeries.split_after\n",
        "training, validation = adj_series.split_after(0.8)\n",
        "\n",
        "#Plot training and testing data\n",
        "training.plot(label='training')\n",
        "validation.plot(label='validation')\n",
        "plt.legend();\n",
        "plt.title(\"Training and Validation Plots\")"
      ],
      "metadata": {
        "id": "Eft3HWD0oXjs",
        "outputId": "5a32cf88-e4cd-4466-f436-cafe4a4ff226",
        "colab": {
          "base_uri": "https://localhost:8080/",
          "height": 510
        }
      },
      "execution_count": 141,
      "outputs": [
        {
          "output_type": "execute_result",
          "data": {
            "text/plain": [
              "Text(0.5, 1.0, 'Training and Validation Plots')"
            ]
          },
          "metadata": {},
          "execution_count": 141
        },
        {
          "output_type": "display_data",
          "data": {
            "text/plain": [
              "<Figure size 640x480 with 1 Axes>"
            ],
            "image/png": "[encoded data removed]"
          },
          "metadata": {}
        }
      ]
    },
    {
      "cell_type": "code",
      "source": [
        "#Transform training set, validation set, and entire series to values between 0 and 1.\n",
        "transformer = Scaler()\n",
        "train_transformed = transformer.fit_transform(training)\n",
        "val_transformed = transformer.transform(validation)\n",
        "series_transformed = transformer.transform(adj_series)\n",
        "print(train_transformed)\n",
        "print(val_transformed)\n",
        "print(series_transformed)"
      ],
      "metadata": {
        "id": "vzG8sgsAo4S0",
        "outputId": "4f4ebc4e-b49c-420c-ad97-5bd5a149661c",
        "colab": {
          "base_uri": "https://localhost:8080/"
        }
      },
      "execution_count": 142,
      "outputs": [
        {
          "output_type": "stream",
          "name": "stdout",
          "text": [
            "<TimeSeries (DataArray) (time: 292, component: 1, sample: 1)>\n",
            "array([[[0.        ]],\n",
            "\n",
            "       [[0.04746853]],\n",
            "\n",
            "       [[0.02699299]],\n",
            "\n",
            "       [[0.03158044]],\n",
            "\n",
            "       [[0.05619579]],\n",
            "\n",
            "       [[0.05619579]],\n",
            "\n",
            "       [[0.05619579]],\n",
            "\n",
            "       [[0.06422375]],\n",
            "\n",
            "       [[0.10674127]],\n",
            "\n",
            "       [[0.09563637]],\n",
            "\n",
            "...\n",
            "\n",
            "       [[1.        ]],\n",
            "\n",
            "       [[0.96883912]],\n",
            "\n",
            "       [[0.95314685]],\n",
            "\n",
            "       [[0.95314685]],\n",
            "\n",
            "       [[0.95314685]],\n",
            "\n",
            "       [[0.95314685]],\n",
            "\n",
            "       [[0.90506293]],\n",
            "\n",
            "       [[0.90081113]],\n",
            "\n",
            "       [[0.92372023]],\n",
            "\n",
            "       [[0.90769231]]])\n",
            "Coordinates:\n",
            "  * time       (time) datetime64[ns] 2022-05-09 2022-05-10 ... 2023-02-24\n",
            "  * component  (component) object 'Close'\n",
            "Dimensions without coordinates: sample\n",
            "Attributes:\n",
            "    static_covariates:  None\n",
            "    hierarchy:          None\n",
            "<TimeSeries (DataArray) (time: 73, component: 1, sample: 1)>\n",
            "array([[[0.90769231]],\n",
            "\n",
            "       [[0.90769231]],\n",
            "\n",
            "       [[0.92019572]],\n",
            "\n",
            "       [[0.93972031]],\n",
            "\n",
            "       [[0.95482511]],\n",
            "\n",
            "       [[0.96805599]],\n",
            "\n",
            "       [[1.01759434]],\n",
            "\n",
            "       [[1.01759434]],\n",
            "\n",
            "       [[1.01759434]],\n",
            "\n",
            "       [[0.99339864]],\n",
            "\n",
            "...\n",
            "\n",
            "       [[1.08114688]],\n",
            "\n",
            "       [[1.08114688]],\n",
            "\n",
            "       [[1.13160836]],\n",
            "\n",
            "       [[1.11404201]],\n",
            "\n",
            "       [[1.14951052]],\n",
            "\n",
            "       [[1.10548258]],\n",
            "\n",
            "       [[1.09241952]],\n",
            "\n",
            "       [[1.09241952]],\n",
            "\n",
            "       [[1.09241952]],\n",
            "\n",
            "       [[1.09241952]]])\n",
            "Coordinates:\n",
            "  * time       (time) datetime64[ns] 2023-02-25 2023-02-26 ... 2023-05-08\n",
            "  * component  (component) object 'Close'\n",
            "Dimensions without coordinates: sample\n",
            "Attributes:\n",
            "    static_covariates:  None\n",
            "    hierarchy:          None\n",
            "<TimeSeries (DataArray) (time: 365, component: 1, sample: 1)>\n",
            "array([[[0.        ]],\n",
            "\n",
            "       [[0.04746853]],\n",
            "\n",
            "       [[0.02699299]],\n",
            "\n",
            "       [[0.03158044]],\n",
            "\n",
            "       [[0.05619579]],\n",
            "\n",
            "       [[0.05619579]],\n",
            "\n",
            "       [[0.05619579]],\n",
            "\n",
            "       [[0.06422375]],\n",
            "\n",
            "       [[0.10674127]],\n",
            "\n",
            "       [[0.09563637]],\n",
            "\n",
            "...\n",
            "\n",
            "       [[1.08114688]],\n",
            "\n",
            "       [[1.08114688]],\n",
            "\n",
            "       [[1.13160836]],\n",
            "\n",
            "       [[1.11404201]],\n",
            "\n",
            "       [[1.14951052]],\n",
            "\n",
            "       [[1.10548258]],\n",
            "\n",
            "       [[1.09241952]],\n",
            "\n",
            "       [[1.09241952]],\n",
            "\n",
            "       [[1.09241952]],\n",
            "\n",
            "       [[1.09241952]]])\n",
            "Coordinates:\n",
            "  * time       (time) datetime64[ns] 2022-05-09 2022-05-10 ... 2023-05-08\n",
            "  * component  (component) object 'Close'\n",
            "Dimensions without coordinates: sample\n",
            "Attributes:\n",
            "    static_covariates:  None\n",
            "    hierarchy:          None\n"
          ]
        }
      ]
    },
    {
      "cell_type": "markdown",
      "source": [
        "## Construct LSTM Model in Darts"
      ],
      "metadata": {
        "id": "JGPs9PSUprg0"
      }
    },
    {
      "cell_type": "code",
      "source": [
        "#Define LSTM Model\n",
        "my_model = RNNModel(\n",
        "    model=\"LSTM\",\n",
        "    n_rnn_layers = 3, # Number of LSTM layers\n",
        "    hidden_dim=4,\n",
        "    dropout=0.2,\n",
        "    batch_size=16,\n",
        "    n_epochs=10,\n",
        "    optimizer_kwargs={\"lr\": 1e-3}, #learning rate\n",
        "    model_name=\"Air_RNN\",\n",
        "    log_tensorboard=True,\n",
        "    random_state=42,\n",
        "    training_length=20,\n",
        "    input_chunk_length=14,\n",
        "    force_reset=True,\n",
        "    save_checkpoints=True,\n",
        ")\n",
        "\n",
        "#Fit model on training data\n",
        "my_model.fit(train_transformed)\n",
        "\n",
        "#Predict values \n",
        "pred = my_model.predict(n=len(val_transformed))"
      ],
      "metadata": {
        "id": "4I8zVdZUpucs",
        "outputId": "4327332b-3727-450e-baaf-789c9e846449",
        "colab": {
          "base_uri": "https://localhost:8080/",
          "height": 518,
          "referenced_widgets": [
            "16270b7480214a81806acdd1248aab69",
            "ef75406d90604a769b0b1ddf777b47fd",
            "4e02c114487249eb8f33ef0446c3c042",
            "004a737baf144034912a266084a144b2",
            "464e416f813c47d29e35915d3d60f4a6",
            "626f0a53b6b1487e88be157bae574cb1",
            "6a896630a41a47b69b17982ec509872a",
            "e1c9045b352d472881a349e5650273e8",
            "41c0acf9aefc445297d8c8c77ca56b4d",
            "d4473a0cab65436893b907f4465fefe8",
            "9cdffc10efc54ef5add3358dddefb2be",
            "d4850b1cfd834a349fbc5961dc4defc1",
            "c924d64123e1475d84ccd34e6c01d3e8",
            "cee3e3e27e114661a421c70cf1680fdb",
            "6e51beb990584455b88436eb0886ef8c",
            "f61edd6ee24e498bb137343610cfe55f",
            "2041218d4327438fba03ea68d778eaf9",
            "f5f2392bd7704dbd9f25d699a7c88221",
            "3e5471412b4e4145a9d789840d03a783",
            "4d1fb3d4e71e4724a8fd813b34c9b7aa",
            "8cea4dbc1b564503b5bb96826f88d84e",
            "c9e1663130ba4cb5bf740b5101b0506a"
          ]
        }
      },
      "execution_count": 143,
      "outputs": [
        {
          "output_type": "stream",
          "name": "stderr",
          "text": [
            "INFO:pytorch_lightning.utilities.rank_zero:GPU available: False, used: False\n",
            "INFO:pytorch_lightning.utilities.rank_zero:TPU available: False, using: 0 TPU cores\n",
            "INFO:pytorch_lightning.utilities.rank_zero:IPU available: False, using: 0 IPUs\n",
            "INFO:pytorch_lightning.utilities.rank_zero:HPU available: False, using: 0 HPUs\n",
            "INFO:pytorch_lightning.callbacks.model_summary:\n",
            "  | Name          | Type             | Params\n",
            "---------------------------------------------------\n",
            "0 | criterion     | MSELoss          | 0     \n",
            "1 | train_metrics | MetricCollection | 0     \n",
            "2 | val_metrics   | MetricCollection | 0     \n",
            "3 | rnn           | LSTM             | 432   \n",
            "4 | V             | Linear           | 5     \n",
            "---------------------------------------------------\n",
            "437       Trainable params\n",
            "0         Non-trainable params\n",
            "437       Total params\n",
            "0.002     Total estimated model params size (MB)\n",
            "/usr/local/lib/python3.10/dist-packages/pytorch_lightning/loops/fit_loop.py:280: PossibleUserWarning: The number of training batches (17) is smaller than the logging interval Trainer(log_every_n_steps=50). Set a lower value for log_every_n_steps if you want to see logs for the training epoch.\n",
            "  rank_zero_warn(\n"
          ]
        },
        {
          "output_type": "display_data",
          "data": {
            "text/plain": [
              "Training: 0it [00:00, ?it/s]"
            ],
            "application/vnd.jupyter.widget-view+json": {
              "version_major": 2,
              "version_minor": 0,
              "model_id": "16270b7480214a81806acdd1248aab69"
            }
          },
          "metadata": {}
        },
        {
          "output_type": "stream",
          "name": "stderr",
          "text": [
            "INFO:pytorch_lightning.utilities.rank_zero:`Trainer.fit` stopped: `max_epochs=10` reached.\n",
            "INFO:pytorch_lightning.utilities.rank_zero:GPU available: False, used: False\n",
            "INFO:pytorch_lightning.utilities.rank_zero:TPU available: False, using: 0 TPU cores\n",
            "INFO:pytorch_lightning.utilities.rank_zero:IPU available: False, using: 0 IPUs\n",
            "INFO:pytorch_lightning.utilities.rank_zero:HPU available: False, using: 0 HPUs\n"
          ]
        },
        {
          "output_type": "display_data",
          "data": {
            "text/plain": [
              "Predicting: 0it [00:00, ?it/s]"
            ],
            "application/vnd.jupyter.widget-view+json": {
              "version_major": 2,
              "version_minor": 0,
              "model_id": "d4850b1cfd834a349fbc5961dc4defc1"
            }
          },
          "metadata": {}
        }
      ]
    },
    {
      "cell_type": "markdown",
      "source": [
        "## Evaluating Results"
      ],
      "metadata": {
        "id": "QR1zwn3dqXo3"
      }
    },
    {
      "cell_type": "code",
      "source": [
        "#Plot transformed validation set vs prediction \n",
        "val_transformed.plot(label='actual')\n",
        "pred.plot(label='forecast')\n",
        "plt.legend();\n",
        "plt.title(\"Transformed Validation vs Prediction\")\n",
        "print('MAPE = {:.2f}%'.format(mape(val_transformed, pred)))\n"
      ],
      "metadata": {
        "id": "0GICQGw3p5rE",
        "outputId": "2da4ff27-41a0-4aea-a577-f160000d56ac",
        "colab": {
          "base_uri": "https://localhost:8080/",
          "height": 520
        }
      },
      "execution_count": 144,
      "outputs": [
        {
          "output_type": "stream",
          "name": "stdout",
          "text": [
            "MAPE = 50.62%\n"
          ]
        },
        {
          "output_type": "display_data",
          "data": {
            "text/plain": [
              "<Figure size 640x480 with 1 Axes>"
            ],
            "image/png": "[encoded data removed]"
          },
          "metadata": {}
        }
      ]
    },
    {
      "cell_type": "code",
      "source": [
        "#Perform inverse scaling on prediction\n",
        "inverse_scaler_pred = transformer.inverse_transform(pred)\n",
        "\n",
        "#Plot inverse scaled predictions with validation  \n",
        "inverse_scaler_pred.plot(label='prediction')\n",
        "validation.plot(label='Validation')\n",
        "plt.legend();\n",
        "plt.title(\"Inverse Scaled Predictions vs. Original Validation Set\")\n",
        "print('MAPE = {:.2f}%'.format(mape(validation, inverse_scaler_pred)))"
      ],
      "metadata": {
        "id": "Ex1O8t2HsevG",
        "outputId": "d040d06d-6c68-482a-ead4-41c6b38d7b1d",
        "colab": {
          "base_uri": "https://localhost:8080/",
          "height": 520
        }
      },
      "execution_count": 145,
      "outputs": [
        {
          "output_type": "stream",
          "name": "stdout",
          "text": [
            "MAPE = 25.86%\n"
          ]
        },
        {
          "output_type": "display_data",
          "data": {
            "text/plain": [
              "<Figure size 640x480 with 1 Axes>"
            ],
            "image/png": "[encoded data removed]"
          },
          "metadata": {}
        }
      ]
    },
    {
      "cell_type": "code",
      "source": [
        "#Plot total data vs prediction\n",
        "adj_series.plot(label='actual')\n",
        "inverse_scaler_pred.plot(label='forecast')\n",
        "plt.legend();\n",
        "plt.title(\"Total Data vs Inverse Scaled Prediction\")\n",
        "print('MAPE = {:.2f}%'.format(mape(adj_series, inverse_scaler_pred)))"
      ],
      "metadata": {
        "id": "hkgapqxgqWN_",
        "outputId": "f67ad450-bd13-4a11-b4c3-e03f82b01d45",
        "colab": {
          "base_uri": "https://localhost:8080/",
          "height": 510
        }
      },
      "execution_count": 146,
      "outputs": [
        {
          "output_type": "stream",
          "name": "stdout",
          "text": [
            "MAPE = 25.86%\n"
          ]
        },
        {
          "output_type": "display_data",
          "data": {
            "text/plain": [
              "<Figure size 640x480 with 1 Axes>"
            ],
            "image/png": "[encoded data removed]"
          },
          "metadata": {}
        }
      ]
    },
    {
      "cell_type": "code",
      "source": [],
      "metadata": {
        "id": "eI-03iFlsFLl"
      },
      "execution_count": 146,
      "outputs": []
    },
    {
      "cell_type": "code",
      "source": [
        "# import optuna\n",
        "# from sklearn.model_selection import cross_val_score\n",
        "\n",
        "\n",
        "# def objective(trial):\n",
        "\n",
        "#     n_rnn_layers = trial.suggest_int(\"n_rnn_layers\", 1, 5)\n",
        "#     hidden_dim = trial.suggest_int(\"hidden_dim\", 1, 5)\n",
        "#     input_chunk_length = trial.suggest_int(\"input_chunk_length\", 1,5)\n",
        "\n",
        "#     my_model = RNNModel(\n",
        "#     model=\"LSTM\",\n",
        "#     n_rnn_layers = n_rnn_layers,\n",
        "#     hidden_dim= hidden_dim,\n",
        "#     input_chunk_length=input_chunk_length\n",
        "#     )\n",
        "\n",
        "#     my_model.fit(training)\n",
        "\n",
        "#     preds = my_model.predict(series=training, n=len(validation))\n",
        "#     mapes = mape(validation, preds, n_jobs=-1, verbose=True)\n",
        "#     smape_val = np.mean(mapes)\n",
        "\n",
        "#     return smape_val if smape_val != np.nan else float(\"inf\")\n",
        "\n",
        "\n",
        "# def print_callback(study, trial):\n",
        "#     print(f\"Current value: {trial.value}, Current params: {trial.params}\")\n",
        "#     print(f\"Best value: {study.best_value}, Best params: {study.best_trial.params}\")\n",
        "\n",
        "# study = optuna.create_study(direction=\"minimize\")\n",
        "# study.optimize(objective, n_trials=5, callbacks=[print_callback])\n",
        "\n",
        "\n"
      ],
      "metadata": {
        "id": "ITO9md0tRF-X"
      },
      "execution_count": 147,
      "outputs": []
    },
    {
      "cell_type": "code",
      "source": [
        "# !pip install yfinance\n",
        "# !pip install darts\n",
        "\n",
        "# import torch\n",
        "# import torch.nn as nn\n",
        "# import torch.optim as optim\n",
        "# import numpy as np\n",
        "# import pandas as pd\n",
        "# #import shutil\n",
        "# from sklearn.preprocessing import MinMaxScaler\n",
        "# #from tqdm import tqdm_notebook as tqdm\n",
        "# import matplotlib.pyplot as plt\n",
        "\n",
        "# from darts import TimeSeries\n",
        "# from darts.models import RNNModel, ExponentialSmoothing, BlockRNNModel\n",
        "# from darts.metrics import mape, mse\n",
        "# #from darts.utils.statistics import check_seasonality, plot_acf\n",
        "# #from darts.datasets import AirPassengersDataset, SunspotsDataset\n",
        "# from darts.utils.timeseries_generation import datetime_attribute_timeseries\n",
        "# from darts.models import forecasting\n",
        "# from darts.dataprocessing.transformers import Scaler, MissingValuesFiller\n",
        "\n",
        "# import yfinance as yf\n",
        "# tickers = ['AAPL', 'ACN', 'ADBE', 'ADI', 'ADSK', 'AKAM', 'AMAT', 'AMD', 'ANET', 'ANSS']\n",
        "# for tk in tickers:\n",
        "#     ticker= yf.Ticker(tk)\n",
        "#     df = ticker.history(start=\"2022-04-01\", end=\"2023-04-01\", interval=\"1d\")\n",
        "\n",
        "#     # data.reset_index(inplace=True)\n",
        "#     # data = data[['Date', 'Close']]\n",
        "\n",
        "#     idx = pd.date_range(start='2022-04-01', end='2023-04-01')\n",
        "#     df.index = pd.DatetimeIndex(df.index)\n",
        "#     df.index = df.index.tz_localize(None) \n",
        "#     # # #df['Date'] = pd.to_datetime(df['Date'])\n",
        "#     # # #print(df)\n",
        "#     # # #df.set_index='Date'\n",
        "#     # # #print(df)\n",
        "#     # # df.index = pd.DatetimeIndex(df.index)\n",
        "#     # # print(df)\n",
        "#     df = df.reindex(idx, method = 'pad')\n",
        "#     print(df)\n",
        "#     series = TimeSeries.from_dataframe(df)\n",
        "#     print(series)\n",
        "\n",
        "#     adj_series = series.drop_columns(['Open', 'High', 'Low', 'Volume', 'Dividends', 'Stock Splits'])\n",
        "#     training, validation = adj_series.split_after(0.8)\n",
        "#     training.plot(label='training')\n",
        "#     validation.plot(label='validation')\n",
        "#     plt.legend();\n",
        "#     from darts.dataprocessing.transformers import Scaler\n",
        "#     transformer = Scaler()\n",
        "#     train_transformed = transformer.fit_transform(training)\n",
        "#     val_transformed = transformer.transform(validation)\n",
        "#     series_transformed = transformer.transform(adj_series)\n",
        "#     print(train_transformed)\n",
        "#     print(val_transformed)\n",
        "#     print(series_transformed)\n",
        "#     # scaler_stock = Scaler()\n",
        "#     # series_stock_scaled = scaler_stock.fit_transform(adj_series)\n",
        "#     # print(series_stock_scaled)\n",
        "#     # training, validation = adj_series.split_after(0.8)\n",
        "#     my_model = RNNModel(\n",
        "#         model=\"LSTM\",\n",
        "#         n_rnn_layers = 3,\n",
        "#         hidden_dim=4,\n",
        "#         dropout=0,\n",
        "#         batch_size=16,\n",
        "#         n_epochs=10,\n",
        "#         optimizer_kwargs={\"lr\": 1e-3},\n",
        "#         model_name=\"Air_RNN\",\n",
        "#         log_tensorboard=True,\n",
        "#         random_state=42,\n",
        "#         training_length=20,\n",
        "#         input_chunk_length=3,\n",
        "#         force_reset=True,\n",
        "#         save_checkpoints=True,\n",
        "#     )\n",
        "#     my_model.fit(train_transformed)\n",
        "#     pred = my_model.predict(n=len(val_transformed))\n",
        "#     val_transformed.plot(label='actual')\n",
        "#     pred.plot(label='forecast')\n",
        "#     plt.legend();\n",
        "#     print('MAPE = {:.2f}%'.format(mape(val_transformed, pred)))\n",
        "#     series_transformed.plot(label='actual')\n",
        "#     pred.plot(label='forecast')\n",
        "#     plt.legend();\n",
        "#     print('MAPE = {:.2f}%'.format(mape(series_transformed, pred)))\n",
        "#     inverse_scaler_pred = transformer.inverse_transform(pred)\n",
        "\n",
        "#     inverse_scaler_pred.plot(label='prediction')\n",
        "#     validation.plot(label='Validation')\n",
        "#     plt.legend();\n",
        "\n",
        "#     !pip install optuna\n",
        "#     import optuna\n",
        "#     from sklearn.model_selection import cross_val_score\n",
        "\n",
        "\n",
        "#     def objective(trial):\n",
        "\n",
        "#         n_rnn_layers = trial.suggest_int(\"n_rnn_layers\", 1, 5)\n",
        "#         hidden_dim = trial.suggest_int(\"hidden_dim\", 1, 5)\n",
        "#         input_chunk_length = trial.suggest_int(\"input_chunk_length\", 1,5)\n",
        "\n",
        "#         my_model = RNNModel(\n",
        "#         model=\"LSTM\",\n",
        "#         n_rnn_layers = n_rnn_layers,\n",
        "#         hidden_dim= hidden_dim,\n",
        "#         input_chunk_length=input_chunk_length\n",
        "#         )\n",
        "\n",
        "#         my_model.fit(training)\n",
        "\n",
        "#         preds = my_model.predict(series=training, n=len(validation))\n",
        "#         mapes = mape(validation, preds, n_jobs=-1, verbose=True)\n",
        "#         smape_val = np.mean(mapes)\n",
        "\n",
        "#         return smape_val if smape_val != np.nan else float(\"inf\")\n",
        "\n",
        "\n",
        "#     def print_callback(study, trial):\n",
        "#         print(f\"Current value: {trial.value}, Current params: {trial.params}\")\n",
        "#         print(f\"Best value: {study.best_value}, Best params: {study.best_trial.params}\")\n",
        "\n",
        "#     study = optuna.create_study(direction=\"minimize\")\n",
        "#     study.optimize(objective, n_trials=5, callbacks=[print_callback])\n",
        "\n",
        "\n"
      ],
      "metadata": {
        "id": "YfFD6gRbkUnO"
      },
      "execution_count": 148,
      "outputs": []
    },
    {
      "cell_type": "code",
      "source": [],
      "metadata": {
        "id": "xiw_n6QxQn67"
      },
      "execution_count": 148,
      "outputs": []
    }
  ]
}