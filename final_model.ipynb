{
  "nbformat": 4,
  "nbformat_minor": 0,
  "metadata": {
    "colab": {
      "provenance": [],
      "gpuType": "T4"
    },
    "kernelspec": {
      "name": "python3",
      "display_name": "Python 3"
    },
    "language_info": {
      "name": "python"
    },
    "gpuClass": "standard",
    "accelerator": "GPU",
    "widgets": {
      "application/vnd.jupyter.widget-state+json": {
        "b5843ab6b4204bbf9e3eaf6485160844": {
          "model_module": "@jupyter-widgets/controls",
          "model_name": "HBoxModel",
          "model_module_version": "1.5.0",
          "state": {
            "_dom_classes": [],
            "_model_module": "@jupyter-widgets/controls",
            "_model_module_version": "1.5.0",
            "_model_name": "HBoxModel",
            "_view_count": null,
            "_view_module": "@jupyter-widgets/controls",
            "_view_module_version": "1.5.0",
            "_view_name": "HBoxView",
            "box_style": "",
            "children": [
              "IPY_MODEL_149a6229aeb546b09bd014c9753e1066",
              "IPY_MODEL_708fbcc35942428783fa28fcff62fd2e",
              "IPY_MODEL_07f4979ef4ae4f54943bd1ead57f5fea"
            ],
            "layout": "IPY_MODEL_52c93a6867de462e94d7b93feff23d5b"
          }
        },
        "149a6229aeb546b09bd014c9753e1066": {
          "model_module": "@jupyter-widgets/controls",
          "model_name": "HTMLModel",
          "model_module_version": "1.5.0",
          "state": {
            "_dom_classes": [],
            "_model_module": "@jupyter-widgets/controls",
            "_model_module_version": "1.5.0",
            "_model_name": "HTMLModel",
            "_view_count": null,
            "_view_module": "@jupyter-widgets/controls",
            "_view_module_version": "1.5.0",
            "_view_name": "HTMLView",
            "description": "",
            "description_tooltip": null,
            "layout": "IPY_MODEL_baf1e63526f64b15858671616350cb7c",
            "placeholder": "​",
            "style": "IPY_MODEL_32668d6b43a540d98753ce8ceb98cdd6",
            "value": "Epoch 49: 100%"
          }
        },
        "708fbcc35942428783fa28fcff62fd2e": {
          "model_module": "@jupyter-widgets/controls",
          "model_name": "FloatProgressModel",
          "model_module_version": "1.5.0",
          "state": {
            "_dom_classes": [],
            "_model_module": "@jupyter-widgets/controls",
            "_model_module_version": "1.5.0",
            "_model_name": "FloatProgressModel",
            "_view_count": null,
            "_view_module": "@jupyter-widgets/controls",
            "_view_module_version": "1.5.0",
            "_view_name": "ProgressView",
            "bar_style": "success",
            "description": "",
            "description_tooltip": null,
            "layout": "IPY_MODEL_84ce38dc312c4a4bbc52bfd2dbb73eef",
            "max": 9,
            "min": 0,
            "orientation": "horizontal",
            "style": "IPY_MODEL_ed52dd45038d4d1d9c2ce1ac17415067",
            "value": 9
          }
        },
        "07f4979ef4ae4f54943bd1ead57f5fea": {
          "model_module": "@jupyter-widgets/controls",
          "model_name": "HTMLModel",
          "model_module_version": "1.5.0",
          "state": {
            "_dom_classes": [],
            "_model_module": "@jupyter-widgets/controls",
            "_model_module_version": "1.5.0",
            "_model_name": "HTMLModel",
            "_view_count": null,
            "_view_module": "@jupyter-widgets/controls",
            "_view_module_version": "1.5.0",
            "_view_name": "HTMLView",
            "description": "",
            "description_tooltip": null,
            "layout": "IPY_MODEL_0e2ba359864f4e92bfb863ff7953985a",
            "placeholder": "​",
            "style": "IPY_MODEL_69d9f79c898c4f1eafeeb3e65ed42c5e",
            "value": " 9/9 [00:00&lt;00:00, 28.66it/s, train_loss=0.0117]"
          }
        },
        "52c93a6867de462e94d7b93feff23d5b": {
          "model_module": "@jupyter-widgets/base",
          "model_name": "LayoutModel",
          "model_module_version": "1.2.0",
          "state": {
            "_model_module": "@jupyter-widgets/base",
            "_model_module_version": "1.2.0",
            "_model_name": "LayoutModel",
            "_view_count": null,
            "_view_module": "@jupyter-widgets/base",
            "_view_module_version": "1.2.0",
            "_view_name": "LayoutView",
            "align_content": null,
            "align_items": null,
            "align_self": null,
            "border": null,
            "bottom": null,
            "display": "inline-flex",
            "flex": null,
            "flex_flow": "row wrap",
            "grid_area": null,
            "grid_auto_columns": null,
            "grid_auto_flow": null,
            "grid_auto_rows": null,
            "grid_column": null,
            "grid_gap": null,
            "grid_row": null,
            "grid_template_areas": null,
            "grid_template_columns": null,
            "grid_template_rows": null,
            "height": null,
            "justify_content": null,
            "justify_items": null,
            "left": null,
            "margin": null,
            "max_height": null,
            "max_width": null,
            "min_height": null,
            "min_width": null,
            "object_fit": null,
            "object_position": null,
            "order": null,
            "overflow": null,
            "overflow_x": null,
            "overflow_y": null,
            "padding": null,
            "right": null,
            "top": null,
            "visibility": null,
            "width": "100%"
          }
        },
        "baf1e63526f64b15858671616350cb7c": {
          "model_module": "@jupyter-widgets/base",
          "model_name": "LayoutModel",
          "model_module_version": "1.2.0",
          "state": {
            "_model_module": "@jupyter-widgets/base",
            "_model_module_version": "1.2.0",
            "_model_name": "LayoutModel",
            "_view_count": null,
            "_view_module": "@jupyter-widgets/base",
            "_view_module_version": "1.2.0",
            "_view_name": "LayoutView",
            "align_content": null,
            "align_items": null,
            "align_self": null,
            "border": null,
            "bottom": null,
            "display": null,
            "flex": null,
            "flex_flow": null,
            "grid_area": null,
            "grid_auto_columns": null,
            "grid_auto_flow": null,
            "grid_auto_rows": null,
            "grid_column": null,
            "grid_gap": null,
            "grid_row": null,
            "grid_template_areas": null,
            "grid_template_columns": null,
            "grid_template_rows": null,
            "height": null,
            "justify_content": null,
            "justify_items": null,
            "left": null,
            "margin": null,
            "max_height": null,
            "max_width": null,
            "min_height": null,
            "min_width": null,
            "object_fit": null,
            "object_position": null,
            "order": null,
            "overflow": null,
            "overflow_x": null,
            "overflow_y": null,
            "padding": null,
            "right": null,
            "top": null,
            "visibility": null,
            "width": null
          }
        },
        "32668d6b43a540d98753ce8ceb98cdd6": {
          "model_module": "@jupyter-widgets/controls",
          "model_name": "DescriptionStyleModel",
          "model_module_version": "1.5.0",
          "state": {
            "_model_module": "@jupyter-widgets/controls",
            "_model_module_version": "1.5.0",
            "_model_name": "DescriptionStyleModel",
            "_view_count": null,
            "_view_module": "@jupyter-widgets/base",
            "_view_module_version": "1.2.0",
            "_view_name": "StyleView",
            "description_width": ""
          }
        },
        "84ce38dc312c4a4bbc52bfd2dbb73eef": {
          "model_module": "@jupyter-widgets/base",
          "model_name": "LayoutModel",
          "model_module_version": "1.2.0",
          "state": {
            "_model_module": "@jupyter-widgets/base",
            "_model_module_version": "1.2.0",
            "_model_name": "LayoutModel",
            "_view_count": null,
            "_view_module": "@jupyter-widgets/base",
            "_view_module_version": "1.2.0",
            "_view_name": "LayoutView",
            "align_content": null,
            "align_items": null,
            "align_self": null,
            "border": null,
            "bottom": null,
            "display": null,
            "flex": "2",
            "flex_flow": null,
            "grid_area": null,
            "grid_auto_columns": null,
            "grid_auto_flow": null,
            "grid_auto_rows": null,
            "grid_column": null,
            "grid_gap": null,
            "grid_row": null,
            "grid_template_areas": null,
            "grid_template_columns": null,
            "grid_template_rows": null,
            "height": null,
            "justify_content": null,
            "justify_items": null,
            "left": null,
            "margin": null,
            "max_height": null,
            "max_width": null,
            "min_height": null,
            "min_width": null,
            "object_fit": null,
            "object_position": null,
            "order": null,
            "overflow": null,
            "overflow_x": null,
            "overflow_y": null,
            "padding": null,
            "right": null,
            "top": null,
            "visibility": null,
            "width": null
          }
        },
        "ed52dd45038d4d1d9c2ce1ac17415067": {
          "model_module": "@jupyter-widgets/controls",
          "model_name": "ProgressStyleModel",
          "model_module_version": "1.5.0",
          "state": {
            "_model_module": "@jupyter-widgets/controls",
            "_model_module_version": "1.5.0",
            "_model_name": "ProgressStyleModel",
            "_view_count": null,
            "_view_module": "@jupyter-widgets/base",
            "_view_module_version": "1.2.0",
            "_view_name": "StyleView",
            "bar_color": null,
            "description_width": ""
          }
        },
        "0e2ba359864f4e92bfb863ff7953985a": {
          "model_module": "@jupyter-widgets/base",
          "model_name": "LayoutModel",
          "model_module_version": "1.2.0",
          "state": {
            "_model_module": "@jupyter-widgets/base",
            "_model_module_version": "1.2.0",
            "_model_name": "LayoutModel",
            "_view_count": null,
            "_view_module": "@jupyter-widgets/base",
            "_view_module_version": "1.2.0",
            "_view_name": "LayoutView",
            "align_content": null,
            "align_items": null,
            "align_self": null,
            "border": null,
            "bottom": null,
            "display": null,
            "flex": null,
            "flex_flow": null,
            "grid_area": null,
            "grid_auto_columns": null,
            "grid_auto_flow": null,
            "grid_auto_rows": null,
            "grid_column": null,
            "grid_gap": null,
            "grid_row": null,
            "grid_template_areas": null,
            "grid_template_columns": null,
            "grid_template_rows": null,
            "height": null,
            "justify_content": null,
            "justify_items": null,
            "left": null,
            "margin": null,
            "max_height": null,
            "max_width": null,
            "min_height": null,
            "min_width": null,
            "object_fit": null,
            "object_position": null,
            "order": null,
            "overflow": null,
            "overflow_x": null,
            "overflow_y": null,
            "padding": null,
            "right": null,
            "top": null,
            "visibility": null,
            "width": null
          }
        },
        "69d9f79c898c4f1eafeeb3e65ed42c5e": {
          "model_module": "@jupyter-widgets/controls",
          "model_name": "DescriptionStyleModel",
          "model_module_version": "1.5.0",
          "state": {
            "_model_module": "@jupyter-widgets/controls",
            "_model_module_version": "1.5.0",
            "_model_name": "DescriptionStyleModel",
            "_view_count": null,
            "_view_module": "@jupyter-widgets/base",
            "_view_module_version": "1.2.0",
            "_view_name": "StyleView",
            "description_width": ""
          }
        },
        "e3cbff1396a744db8419a7d9bb010411": {
          "model_module": "@jupyter-widgets/controls",
          "model_name": "HBoxModel",
          "model_module_version": "1.5.0",
          "state": {
            "_dom_classes": [],
            "_model_module": "@jupyter-widgets/controls",
            "_model_module_version": "1.5.0",
            "_model_name": "HBoxModel",
            "_view_count": null,
            "_view_module": "@jupyter-widgets/controls",
            "_view_module_version": "1.5.0",
            "_view_name": "HBoxView",
            "box_style": "",
            "children": [
              "IPY_MODEL_0b115806eea94f8c9faa4f25526f2c60",
              "IPY_MODEL_0889cfb89efe466d81ba24c3f9294b41",
              "IPY_MODEL_568a1e1ce5b54a43b4fbc55fb5ae354b"
            ],
            "layout": "IPY_MODEL_60362fcb88634d3f8087ed5d071fdc4b"
          }
        },
        "0b115806eea94f8c9faa4f25526f2c60": {
          "model_module": "@jupyter-widgets/controls",
          "model_name": "HTMLModel",
          "model_module_version": "1.5.0",
          "state": {
            "_dom_classes": [],
            "_model_module": "@jupyter-widgets/controls",
            "_model_module_version": "1.5.0",
            "_model_name": "HTMLModel",
            "_view_count": null,
            "_view_module": "@jupyter-widgets/controls",
            "_view_module_version": "1.5.0",
            "_view_name": "HTMLView",
            "description": "",
            "description_tooltip": null,
            "layout": "IPY_MODEL_f4e5ed67c660431da037cb7c61ee3911",
            "placeholder": "​",
            "style": "IPY_MODEL_180d186bb99e4b3aab8ea52c5b94b904",
            "value": "Predicting DataLoader 0: 100%"
          }
        },
        "0889cfb89efe466d81ba24c3f9294b41": {
          "model_module": "@jupyter-widgets/controls",
          "model_name": "FloatProgressModel",
          "model_module_version": "1.5.0",
          "state": {
            "_dom_classes": [],
            "_model_module": "@jupyter-widgets/controls",
            "_model_module_version": "1.5.0",
            "_model_name": "FloatProgressModel",
            "_view_count": null,
            "_view_module": "@jupyter-widgets/controls",
            "_view_module_version": "1.5.0",
            "_view_name": "ProgressView",
            "bar_style": "success",
            "description": "",
            "description_tooltip": null,
            "layout": "IPY_MODEL_f45288247b364d379c4470814e8f526a",
            "max": 1,
            "min": 0,
            "orientation": "horizontal",
            "style": "IPY_MODEL_5741e601925642d3b1637a2462820ef7",
            "value": 1
          }
        },
        "568a1e1ce5b54a43b4fbc55fb5ae354b": {
          "model_module": "@jupyter-widgets/controls",
          "model_name": "HTMLModel",
          "model_module_version": "1.5.0",
          "state": {
            "_dom_classes": [],
            "_model_module": "@jupyter-widgets/controls",
            "_model_module_version": "1.5.0",
            "_model_name": "HTMLModel",
            "_view_count": null,
            "_view_module": "@jupyter-widgets/controls",
            "_view_module_version": "1.5.0",
            "_view_name": "HTMLView",
            "description": "",
            "description_tooltip": null,
            "layout": "IPY_MODEL_f0e8acc3a8e1405ea68b5b3594216301",
            "placeholder": "​",
            "style": "IPY_MODEL_eb5abedd175b42398d2e9a2c99367e91",
            "value": " 1/1 [00:00&lt;00:00, 10.16it/s]"
          }
        },
        "60362fcb88634d3f8087ed5d071fdc4b": {
          "model_module": "@jupyter-widgets/base",
          "model_name": "LayoutModel",
          "model_module_version": "1.2.0",
          "state": {
            "_model_module": "@jupyter-widgets/base",
            "_model_module_version": "1.2.0",
            "_model_name": "LayoutModel",
            "_view_count": null,
            "_view_module": "@jupyter-widgets/base",
            "_view_module_version": "1.2.0",
            "_view_name": "LayoutView",
            "align_content": null,
            "align_items": null,
            "align_self": null,
            "border": null,
            "bottom": null,
            "display": "inline-flex",
            "flex": null,
            "flex_flow": "row wrap",
            "grid_area": null,
            "grid_auto_columns": null,
            "grid_auto_flow": null,
            "grid_auto_rows": null,
            "grid_column": null,
            "grid_gap": null,
            "grid_row": null,
            "grid_template_areas": null,
            "grid_template_columns": null,
            "grid_template_rows": null,
            "height": null,
            "justify_content": null,
            "justify_items": null,
            "left": null,
            "margin": null,
            "max_height": null,
            "max_width": null,
            "min_height": null,
            "min_width": null,
            "object_fit": null,
            "object_position": null,
            "order": null,
            "overflow": null,
            "overflow_x": null,
            "overflow_y": null,
            "padding": null,
            "right": null,
            "top": null,
            "visibility": null,
            "width": "100%"
          }
        },
        "f4e5ed67c660431da037cb7c61ee3911": {
          "model_module": "@jupyter-widgets/base",
          "model_name": "LayoutModel",
          "model_module_version": "1.2.0",
          "state": {
            "_model_module": "@jupyter-widgets/base",
            "_model_module_version": "1.2.0",
            "_model_name": "LayoutModel",
            "_view_count": null,
            "_view_module": "@jupyter-widgets/base",
            "_view_module_version": "1.2.0",
            "_view_name": "LayoutView",
            "align_content": null,
            "align_items": null,
            "align_self": null,
            "border": null,
            "bottom": null,
            "display": null,
            "flex": null,
            "flex_flow": null,
            "grid_area": null,
            "grid_auto_columns": null,
            "grid_auto_flow": null,
            "grid_auto_rows": null,
            "grid_column": null,
            "grid_gap": null,
            "grid_row": null,
            "grid_template_areas": null,
            "grid_template_columns": null,
            "grid_template_rows": null,
            "height": null,
            "justify_content": null,
            "justify_items": null,
            "left": null,
            "margin": null,
            "max_height": null,
            "max_width": null,
            "min_height": null,
            "min_width": null,
            "object_fit": null,
            "object_position": null,
            "order": null,
            "overflow": null,
            "overflow_x": null,
            "overflow_y": null,
            "padding": null,
            "right": null,
            "top": null,
            "visibility": null,
            "width": null
          }
        },
        "180d186bb99e4b3aab8ea52c5b94b904": {
          "model_module": "@jupyter-widgets/controls",
          "model_name": "DescriptionStyleModel",
          "model_module_version": "1.5.0",
          "state": {
            "_model_module": "@jupyter-widgets/controls",
            "_model_module_version": "1.5.0",
            "_model_name": "DescriptionStyleModel",
            "_view_count": null,
            "_view_module": "@jupyter-widgets/base",
            "_view_module_version": "1.2.0",
            "_view_name": "StyleView",
            "description_width": ""
          }
        },
        "f45288247b364d379c4470814e8f526a": {
          "model_module": "@jupyter-widgets/base",
          "model_name": "LayoutModel",
          "model_module_version": "1.2.0",
          "state": {
            "_model_module": "@jupyter-widgets/base",
            "_model_module_version": "1.2.0",
            "_model_name": "LayoutModel",
            "_view_count": null,
            "_view_module": "@jupyter-widgets/base",
            "_view_module_version": "1.2.0",
            "_view_name": "LayoutView",
            "align_content": null,
            "align_items": null,
            "align_self": null,
            "border": null,
            "bottom": null,
            "display": null,
            "flex": "2",
            "flex_flow": null,
            "grid_area": null,
            "grid_auto_columns": null,
            "grid_auto_flow": null,
            "grid_auto_rows": null,
            "grid_column": null,
            "grid_gap": null,
            "grid_row": null,
            "grid_template_areas": null,
            "grid_template_columns": null,
            "grid_template_rows": null,
            "height": null,
            "justify_content": null,
            "justify_items": null,
            "left": null,
            "margin": null,
            "max_height": null,
            "max_width": null,
            "min_height": null,
            "min_width": null,
            "object_fit": null,
            "object_position": null,
            "order": null,
            "overflow": null,
            "overflow_x": null,
            "overflow_y": null,
            "padding": null,
            "right": null,
            "top": null,
            "visibility": null,
            "width": null
          }
        },
        "5741e601925642d3b1637a2462820ef7": {
          "model_module": "@jupyter-widgets/controls",
          "model_name": "ProgressStyleModel",
          "model_module_version": "1.5.0",
          "state": {
            "_model_module": "@jupyter-widgets/controls",
            "_model_module_version": "1.5.0",
            "_model_name": "ProgressStyleModel",
            "_view_count": null,
            "_view_module": "@jupyter-widgets/base",
            "_view_module_version": "1.2.0",
            "_view_name": "StyleView",
            "bar_color": null,
            "description_width": ""
          }
        },
        "f0e8acc3a8e1405ea68b5b3594216301": {
          "model_module": "@jupyter-widgets/base",
          "model_name": "LayoutModel",
          "model_module_version": "1.2.0",
          "state": {
            "_model_module": "@jupyter-widgets/base",
            "_model_module_version": "1.2.0",
            "_model_name": "LayoutModel",
            "_view_count": null,
            "_view_module": "@jupyter-widgets/base",
            "_view_module_version": "1.2.0",
            "_view_name": "LayoutView",
            "align_content": null,
            "align_items": null,
            "align_self": null,
            "border": null,
            "bottom": null,
            "display": null,
            "flex": null,
            "flex_flow": null,
            "grid_area": null,
            "grid_auto_columns": null,
            "grid_auto_flow": null,
            "grid_auto_rows": null,
            "grid_column": null,
            "grid_gap": null,
            "grid_row": null,
            "grid_template_areas": null,
            "grid_template_columns": null,
            "grid_template_rows": null,
            "height": null,
            "justify_content": null,
            "justify_items": null,
            "left": null,
            "margin": null,
            "max_height": null,
            "max_width": null,
            "min_height": null,
            "min_width": null,
            "object_fit": null,
            "object_position": null,
            "order": null,
            "overflow": null,
            "overflow_x": null,
            "overflow_y": null,
            "padding": null,
            "right": null,
            "top": null,
            "visibility": null,
            "width": null
          }
        },
        "eb5abedd175b42398d2e9a2c99367e91": {
          "model_module": "@jupyter-widgets/controls",
          "model_name": "DescriptionStyleModel",
          "model_module_version": "1.5.0",
          "state": {
            "_model_module": "@jupyter-widgets/controls",
            "_model_module_version": "1.5.0",
            "_model_name": "DescriptionStyleModel",
            "_view_count": null,
            "_view_module": "@jupyter-widgets/base",
            "_view_module_version": "1.2.0",
            "_view_name": "StyleView",
            "description_width": ""
          }
        }
      }
    }
  },
  "cells": [
    {
      "cell_type": "markdown",
      "source": [
        "## Import Relevant Libraries"
      ],
      "metadata": {
        "id": "glSPV-0-mnOc"
      }
    },
    {
      "cell_type": "code",
      "source": [
        "!pip install darts yfinance"
      ],
      "metadata": {
        "id": "-VDmsAomn3HL"
      },
      "execution_count": null,
      "outputs": []
    },
    {
      "cell_type": "code",
      "source": [
        "from datetime import datetime\n",
        "from datetime import timedelta\n",
        "from dateutil.relativedelta import relativedelta\n",
        "\n",
        "import torch\n",
        "import torch.nn as nn\n",
        "import torch.optim as optim\n",
        "import numpy as np\n",
        "import pandas as pd\n",
        "from sklearn.preprocessing import MinMaxScaler\n",
        "import matplotlib.pyplot as plt\n",
        "\n",
        "from darts import TimeSeries\n",
        "from darts.models import RNNModel\n",
        "from darts.metrics import mape\n",
        "from darts.utils.timeseries_generation import datetime_attribute_timeseries\n",
        "from darts.models import forecasting\n",
        "from darts.dataprocessing.transformers import Scaler, MissingValuesFiller\n",
        "\n",
        "\n",
        "import yfinance as yf"
      ],
      "metadata": {
        "id": "ZLtv6jsXEvbJ"
      },
      "execution_count": 2,
      "outputs": []
    },
    {
      "cell_type": "markdown",
      "source": [
        "## Data Pre-Processing"
      ],
      "metadata": {
        "id": "KRM2EOmKm1Fb"
      }
    },
    {
      "cell_type": "code",
      "source": [
        "#Getting date from one year ago\n",
        "one_year_ago = datetime.now() - relativedelta(years=1)\n",
        "one_year_ago = one_year_ago.strftime(\"%Y-%m-%d\")\n",
        "\n",
        "#Getting date today\n",
        "today = datetime.now()\n",
        "today = today.strftime(\"%Y-%m-%d\")\n",
        "\n",
        "#Adding one day to the date one year ago\n",
        "one_year_ago_plus_one = datetime.now() - relativedelta(years=1) + timedelta(days=1)\n",
        "one_year_ago_plus_one = one_year_ago_plus_one.strftime(\"%Y-%m-%d\")\n",
        "four_years_ago = datetime.now() - relativedelta(years=4)\n",
        "four_years_ago = four_years_ago.strftime(\"%Y-%m-%d\")\n",
        "print(four_years_ago)\n",
        "print(today)\n",
        "#Accessing YFinance\n",
        "ticker= yf.Ticker(\"adbe\")\n",
        "\n",
        "#Getting pandas dataframe of stock data from one year ago\n",
        "df = ticker.history(start=one_year_ago, end=today, interval=\"1d\")\n",
        "print(df)\n",
        "idx = pd.date_range(start=one_year_ago_plus_one, end=today)\n",
        "# print(idx)\n",
        "\n",
        "\n",
        "\n",
        "#Making index into Datetime index\n",
        "df.index = pd.DatetimeIndex(df.index)\n",
        "df.index = df.index.tz_localize(None)\n",
        "\n",
        "#Reindexing dataframe to fill in missing dates due to stock market closing on weekends\n",
        "df = df.reindex(idx, method = 'pad')\n",
        "\n",
        "\n",
        "print(df)\n",
        "print(len(df))\n",
        "\n"
      ],
      "metadata": {
        "id": "Ml966o7nGiNh",
        "colab": {
          "base_uri": "https://localhost:8080/"
        },
        "outputId": "8db9e262-4dd4-4a4f-a6b8-96566b77259c"
      },
      "execution_count": 3,
      "outputs": [
        {
          "output_type": "stream",
          "name": "stdout",
          "text": [
            "2019-06-27\n",
            "2023-06-27\n",
            "                                 Open        High         Low       Close  \\\n",
            "Date                                                                        \n",
            "2022-06-27 00:00:00-04:00  388.799988  389.390015  379.380005  381.070007   \n",
            "2022-06-28 00:00:00-04:00  381.000000  382.980011  364.450012  365.630005   \n",
            "2022-06-29 00:00:00-04:00  367.940002  370.369995  362.640015  368.500000   \n",
            "2022-06-30 00:00:00-04:00  362.899994  370.420013  357.559998  366.059998   \n",
            "2022-07-01 00:00:00-04:00  364.179993  369.529999  359.070007  368.480011   \n",
            "...                               ...         ...         ...         ...   \n",
            "2023-06-20 00:00:00-04:00  485.630005  492.690002  480.000000  485.859985   \n",
            "2023-06-21 00:00:00-04:00  492.000000  495.549988  475.309998  477.480011   \n",
            "2023-06-22 00:00:00-04:00  474.119995  481.000000  473.019989  477.579987   \n",
            "2023-06-23 00:00:00-04:00  472.950012  487.329987  472.320007  484.720001   \n",
            "2023-06-26 00:00:00-04:00  483.010010  487.160004  479.049988  479.510010   \n",
            "\n",
            "                            Volume  Dividends  Stock Splits  \n",
            "Date                                                         \n",
            "2022-06-27 00:00:00-04:00  2244600        0.0           0.0  \n",
            "2022-06-28 00:00:00-04:00  2654500        0.0           0.0  \n",
            "2022-06-29 00:00:00-04:00  2027900        0.0           0.0  \n",
            "2022-06-30 00:00:00-04:00  2595500        0.0           0.0  \n",
            "2022-07-01 00:00:00-04:00  2471600        0.0           0.0  \n",
            "...                            ...        ...           ...  \n",
            "2023-06-20 00:00:00-04:00  5331200        0.0           0.0  \n",
            "2023-06-21 00:00:00-04:00  5258700        0.0           0.0  \n",
            "2023-06-22 00:00:00-04:00  3601400        0.0           0.0  \n",
            "2023-06-23 00:00:00-04:00  4450200        0.0           0.0  \n",
            "2023-06-26 00:00:00-04:00  3168700        0.0           0.0  \n",
            "\n",
            "[251 rows x 7 columns]\n",
            "                  Open        High         Low       Close   Volume  \\\n",
            "2022-06-28  381.000000  382.980011  364.450012  365.630005  2654500   \n",
            "2022-06-29  367.940002  370.369995  362.640015  368.500000  2027900   \n",
            "2022-06-30  362.899994  370.420013  357.559998  366.059998  2595500   \n",
            "2022-07-01  364.179993  369.529999  359.070007  368.480011  2471600   \n",
            "2022-07-02  364.179993  369.529999  359.070007  368.480011  2471600   \n",
            "...                ...         ...         ...         ...      ...   \n",
            "2023-06-23  472.950012  487.329987  472.320007  484.720001  4450200   \n",
            "2023-06-24  472.950012  487.329987  472.320007  484.720001  4450200   \n",
            "2023-06-25  472.950012  487.329987  472.320007  484.720001  4450200   \n",
            "2023-06-26  483.010010  487.160004  479.049988  479.510010  3168700   \n",
            "2023-06-27  483.010010  487.160004  479.049988  479.510010  3168700   \n",
            "\n",
            "            Dividends  Stock Splits  \n",
            "2022-06-28        0.0           0.0  \n",
            "2022-06-29        0.0           0.0  \n",
            "2022-06-30        0.0           0.0  \n",
            "2022-07-01        0.0           0.0  \n",
            "2022-07-02        0.0           0.0  \n",
            "...               ...           ...  \n",
            "2023-06-23        0.0           0.0  \n",
            "2023-06-24        0.0           0.0  \n",
            "2023-06-25        0.0           0.0  \n",
            "2023-06-26        0.0           0.0  \n",
            "2023-06-27        0.0           0.0  \n",
            "\n",
            "[365 rows x 7 columns]\n",
            "365\n"
          ]
        }
      ]
    },
    {
      "cell_type": "code",
      "source": [
        "#Put dataframe into a Darts \"Timeseries\" object so that data can be fed into a Darts forecasting model. For more information on Timeseries objects, please look here: https://unit8co.github.io/darts/generated_api/darts.timeseries.html\n",
        "series = TimeSeries.from_dataframe(df)\n",
        "\n",
        "#Drop all columns besides \"Close\" Column\n",
        "#adj_series = series.drop_columns(['Open', 'High', 'Low', 'Volume', 'Dividends', 'Stock Splits'])\n",
        "adj_series = series.drop_columns(['Open','High','Low','Volume', 'Dividends', 'Stock Splits'])\n",
        "print(adj_series[-1])"
      ],
      "metadata": {
        "id": "9G58RYxrpANW",
        "colab": {
          "base_uri": "https://localhost:8080/"
        },
        "outputId": "df76b82d-2b93-49f6-b202-e52762c8fe6b"
      },
      "execution_count": 4,
      "outputs": [
        {
          "output_type": "stream",
          "name": "stdout",
          "text": [
            "<TimeSeries (DataArray) (time: 1, component: 1, sample: 1)>\n",
            "array([[[479.51000977]]])\n",
            "Coordinates:\n",
            "  * time       (time) datetime64[ns] 2023-06-27\n",
            "  * component  (component) object 'Close'\n",
            "Dimensions without coordinates: sample\n",
            "Attributes:\n",
            "    static_covariates:  None\n",
            "    hierarchy:          None\n"
          ]
        }
      ]
    },
    {
      "cell_type": "code",
      "source": [
        "\n",
        "#Divide dataset into training and validation/testing sets. \"Split_after\" function is a method of a Darts Timeseries object. https://unit8co.github.io/darts/generated_api/darts.timeseries.html#darts.timeseries.TimeSeries.split_after\n",
        "training, validation = adj_series.split_after(0.8)\n",
        "\n",
        "#Plot training and testing data\n",
        "training.plot(label='training')\n",
        "validation.plot(label='validation')\n",
        "plt.legend();\n",
        "plt.title(\"Training and Validation Plots\")"
      ],
      "metadata": {
        "id": "Eft3HWD0oXjs",
        "colab": {
          "base_uri": "https://localhost:8080/",
          "height": 510
        },
        "outputId": "56637991-2c9b-46ca-84df-bef3b8f7932d"
      },
      "execution_count": 5,
      "outputs": [
        {
          "output_type": "execute_result",
          "data": {
            "text/plain": [
              "Text(0.5, 1.0, 'Training and Validation Plots')"
            ]
          },
          "metadata": {},
          "execution_count": 5
        },
        {
          "output_type": "display_data",
          "data": {
            "text/plain": [
              "<Figure size 640x480 with 1 Axes>"
            ],
            "image/png": "[encoded data removed]"
          },
          "metadata": {}
        }
      ]
    },
    {
      "cell_type": "code",
      "source": [
        "#Transform training set, validation set, and entire series to values between 0 and 1.\n",
        "transformer = Scaler()\n",
        "train_transformed = transformer.fit_transform(training)\n",
        "val_transformed = transformer.transform(validation)\n"
      ],
      "metadata": {
        "id": "vzG8sgsAo4S0"
      },
      "execution_count": 6,
      "outputs": []
    },
    {
      "cell_type": "markdown",
      "source": [
        "## Construct LSTM Model in Darts"
      ],
      "metadata": {
        "id": "JGPs9PSUprg0"
      }
    },
    {
      "cell_type": "code",
      "source": [
        "#Define LSTM Model\n",
        "my_model = RNNModel(\n",
        "    model=\"LSTM\",\n",
        "    n_rnn_layers = 4, # Number of LSTM layers\n",
        "    hidden_dim=10,\n",
        "    dropout=0.06,\n",
        "    batch_size=31,\n",
        "    n_epochs=50,\n",
        "    optimizer_kwargs={\"lr\": 1e-3}, #learning rate\n",
        "    model_name=\"Stock_Forecast\",\n",
        "    log_tensorboard=False,\n",
        "    training_length=30,\n",
        "    input_chunk_length=14,\n",
        "    force_reset=True,\n",
        "    save_checkpoints=True,\n",
        "    pl_trainer_kwargs={\n",
        "      \"accelerator\": \"gpu\",\n",
        "      \"devices\": [0]\n",
        "    },\n",
        ")\n",
        "\n",
        "#Fit model on training data\n",
        "my_model.fit(train_transformed)\n",
        "\n",
        "#Predict values\n",
        "pred = my_model.predict(n=len(val_transformed))"
      ],
      "metadata": {
        "id": "4I8zVdZUpucs",
        "colab": {
          "base_uri": "https://localhost:8080/",
          "height": 552,
          "referenced_widgets": [
            "b5843ab6b4204bbf9e3eaf6485160844",
            "149a6229aeb546b09bd014c9753e1066",
            "708fbcc35942428783fa28fcff62fd2e",
            "07f4979ef4ae4f54943bd1ead57f5fea",
            "52c93a6867de462e94d7b93feff23d5b",
            "baf1e63526f64b15858671616350cb7c",
            "32668d6b43a540d98753ce8ceb98cdd6",
            "84ce38dc312c4a4bbc52bfd2dbb73eef",
            "ed52dd45038d4d1d9c2ce1ac17415067",
            "0e2ba359864f4e92bfb863ff7953985a",
            "69d9f79c898c4f1eafeeb3e65ed42c5e",
            "e3cbff1396a744db8419a7d9bb010411",
            "0b115806eea94f8c9faa4f25526f2c60",
            "0889cfb89efe466d81ba24c3f9294b41",
            "568a1e1ce5b54a43b4fbc55fb5ae354b",
            "60362fcb88634d3f8087ed5d071fdc4b",
            "f4e5ed67c660431da037cb7c61ee3911",
            "180d186bb99e4b3aab8ea52c5b94b904",
            "f45288247b364d379c4470814e8f526a",
            "5741e601925642d3b1637a2462820ef7",
            "f0e8acc3a8e1405ea68b5b3594216301",
            "eb5abedd175b42398d2e9a2c99367e91"
          ]
        },
        "outputId": "28df4519-a4e7-4515-9819-c0fd7b00d517"
      },
      "execution_count": 7,
      "outputs": [
        {
          "output_type": "stream",
          "name": "stderr",
          "text": [
            "INFO:pytorch_lightning.utilities.rank_zero:GPU available: True (cuda), used: True\n",
            "INFO:pytorch_lightning.utilities.rank_zero:TPU available: False, using: 0 TPU cores\n",
            "INFO:pytorch_lightning.utilities.rank_zero:IPU available: False, using: 0 IPUs\n",
            "INFO:pytorch_lightning.utilities.rank_zero:HPU available: False, using: 0 HPUs\n",
            "INFO:pytorch_lightning.accelerators.cuda:LOCAL_RANK: 0 - CUDA_VISIBLE_DEVICES: [0]\n",
            "INFO:pytorch_lightning.callbacks.model_summary:\n",
            "  | Name          | Type             | Params\n",
            "---------------------------------------------------\n",
            "0 | criterion     | MSELoss          | 0     \n",
            "1 | train_metrics | MetricCollection | 0     \n",
            "2 | val_metrics   | MetricCollection | 0     \n",
            "3 | rnn           | LSTM             | 3.2 K \n",
            "4 | V             | Linear           | 11    \n",
            "---------------------------------------------------\n",
            "3.2 K     Trainable params\n",
            "0         Non-trainable params\n",
            "3.2 K     Total params\n",
            "0.013     Total estimated model params size (MB)\n"
          ]
        },
        {
          "output_type": "display_data",
          "data": {
            "text/plain": [
              "Training: 0it [00:00, ?it/s]"
            ],
            "application/vnd.jupyter.widget-view+json": {
              "version_major": 2,
              "version_minor": 0,
              "model_id": "b5843ab6b4204bbf9e3eaf6485160844"
            }
          },
          "metadata": {}
        },
        {
          "output_type": "stream",
          "name": "stderr",
          "text": [
            "/usr/local/lib/python3.10/dist-packages/pytorch_lightning/callbacks/model_checkpoint.py:359: UserWarning: `ModelCheckpoint(monitor='val_loss')` could not find the monitored key in the returned metrics: ['train_loss', 'epoch', 'step']. HINT: Did you call `log('val_loss', value)` in the `LightningModule`?\n",
            "  warning_cache.warn(m)\n",
            "INFO:pytorch_lightning.utilities.rank_zero:`Trainer.fit` stopped: `max_epochs=50` reached.\n",
            "INFO:pytorch_lightning.utilities.rank_zero:GPU available: True (cuda), used: True\n",
            "INFO:pytorch_lightning.utilities.rank_zero:TPU available: False, using: 0 TPU cores\n",
            "INFO:pytorch_lightning.utilities.rank_zero:IPU available: False, using: 0 IPUs\n",
            "INFO:pytorch_lightning.utilities.rank_zero:HPU available: False, using: 0 HPUs\n",
            "INFO:pytorch_lightning.accelerators.cuda:LOCAL_RANK: 0 - CUDA_VISIBLE_DEVICES: [0]\n"
          ]
        },
        {
          "output_type": "display_data",
          "data": {
            "text/plain": [
              "Predicting: 0it [00:00, ?it/s]"
            ],
            "application/vnd.jupyter.widget-view+json": {
              "version_major": 2,
              "version_minor": 0,
              "model_id": "e3cbff1396a744db8419a7d9bb010411"
            }
          },
          "metadata": {}
        }
      ]
    },
    {
      "cell_type": "markdown",
      "source": [
        "## Evaluating Results"
      ],
      "metadata": {
        "id": "QR1zwn3dqXo3"
      }
    },
    {
      "cell_type": "code",
      "source": [
        "#Plot transformed validation set vs prediction\n",
        "val_transformed.plot(label='actual')\n",
        "pred.plot(label='forecast')\n",
        "plt.legend();\n",
        "plt.title(\"Transformed Validation vs Prediction\")\n",
        "print('MAPE = {:.2f}%'.format(mape(val_transformed, pred)))\n"
      ],
      "metadata": {
        "id": "0GICQGw3p5rE",
        "outputId": "0683aac3-fbd5-400a-f23c-e3410ad78de9",
        "colab": {
          "base_uri": "https://localhost:8080/",
          "height": 520
        }
      },
      "execution_count": 8,
      "outputs": [
        {
          "output_type": "stream",
          "name": "stdout",
          "text": [
            "MAPE = 40.25%\n"
          ]
        },
        {
          "output_type": "display_data",
          "data": {
            "text/plain": [
              "<Figure size 640x480 with 1 Axes>"
            ],
            "image/png": "[encoded data removed]"
          },
          "metadata": {}
        }
      ]
    },
    {
      "cell_type": "code",
      "source": [
        "#Perform inverse scaling on prediction\n",
        "inverse_scaler_pred = transformer.inverse_transform(pred)\n",
        "print(inverse_scaler_pred[-1])\n",
        "\n",
        "\n",
        "last_value_from_pred = TimeSeries.pd_dataframe(inverse_scaler_pred)[\"Close\"][-1]\n",
        "print(last_value_from_pred)\n",
        "\n",
        "#Plot inverse scaled predictions with validation\n",
        "inverse_scaler_pred.plot(label='prediction')\n",
        "validation.plot(label='Validation')\n",
        "plt.legend();\n",
        "plt.title(\"Inverse Scaled Predictions vs. Original Validation Set\")\n",
        "print('MAPE = {:.2f}%'.format(mape(validation, inverse_scaler_pred)))"
      ],
      "metadata": {
        "id": "Ex1O8t2HsevG",
        "outputId": "83a13257-e8fb-4944-b262-dbc240f33f2a",
        "colab": {
          "base_uri": "https://localhost:8080/",
          "height": 694
        }
      },
      "execution_count": 9,
      "outputs": [
        {
          "output_type": "stream",
          "name": "stdout",
          "text": [
            "<TimeSeries (DataArray) (time: 1, component: 1, sample: 1)>\n",
            "array([[[420.46462076]]])\n",
            "Coordinates:\n",
            "  * time       (time) datetime64[ns] 2023-06-27\n",
            "  * component  (component) object 'Close'\n",
            "Dimensions without coordinates: sample\n",
            "Attributes:\n",
            "    static_covariates:  None\n",
            "    hierarchy:          None\n",
            "420.46462075913934\n",
            "MAPE = 10.45%\n"
          ]
        },
        {
          "output_type": "display_data",
          "data": {
            "text/plain": [
              "<Figure size 640x480 with 1 Axes>"
            ],
            "image/png": "[encoded data removed]"
          },
          "metadata": {}
        }
      ]
    },
    {
      "cell_type": "code",
      "source": [
        "#Plot total data vs prediction\n",
        "adj_series.plot(label='actual')\n",
        "inverse_scaler_pred.plot(label='forecast')\n",
        "plt.legend();\n",
        "plt.title(\"Total Data vs Inverse Scaled Prediction\")\n",
        "print('MAPE = {:.2f}%'.format(mape(adj_series, inverse_scaler_pred)))"
      ],
      "metadata": {
        "id": "hkgapqxgqWN_",
        "outputId": "72749f5c-1434-426a-f7f4-0cfed7aa7cde",
        "colab": {
          "base_uri": "https://localhost:8080/",
          "height": 510
        }
      },
      "execution_count": 10,
      "outputs": [
        {
          "output_type": "stream",
          "name": "stdout",
          "text": [
            "MAPE = 10.45%\n"
          ]
        },
        {
          "output_type": "display_data",
          "data": {
            "text/plain": [
              "<Figure size 640x480 with 1 Axes>"
            ],
            "image/png": "[encoded data removed]"
          },
          "metadata": {}
        }
      ]
    }
  ]
}