{
  "cells": [
    {
      "cell_type": "code",
      "execution_count": 30,
      "metadata": {
        "id": "pNlJrfHT07YQ"
      },
      "outputs": [],
      "source": [
        "!pip install -q streamlit\n"
      ]
    },
    {
      "cell_type": "code",
      "execution_count": 3,
      "metadata": {
        "colab": {
          "base_uri": "https://localhost:8080/",
          "height": 35
        },
        "id": "geQmINYv1mvK",
        "outputId": "7f77b92b-15d0-4bbe-adbe-49ddd06a87fa"
      },
      "outputs": [
        {
          "output_type": "execute_result",
          "data": {
            "text/plain": [
              "'/content'"
            ],
            "application/vnd.google.colaboratory.intrinsic+json": {
              "type": "string"
            }
          },
          "metadata": {},
          "execution_count": 3
        }
      ],
      "source": [
        "%pwd"
      ]
    },
    {
      "cell_type": "code",
      "execution_count": 31,
      "metadata": {
        "colab": {
          "base_uri": "https://localhost:8080/"
        },
        "id": "qUi_RTIa2CwS",
        "outputId": "fdba1983-67b5-46ae-f5de-99c5bf469cdb"
      },
      "outputs": [
        {
          "output_type": "stream",
          "name": "stdout",
          "text": [
            "Overwriting app.py\n"
          ]
        }
      ],
      "source": [
        "%%writefile app.py\n",
        "import streamlit as st\n",
        "import datetime as dt\n",
        "from datetime import date\n",
        "import torch\n",
        "import torch.nn as nn\n",
        "import torch.optim as optim\n",
        "import numpy as np\n",
        "import pandas as pd\n",
        "#import shutil\n",
        "from sklearn.preprocessing import MinMaxScaler\n",
        "#from tqdm import tqdm_notebook as tqdm\n",
        "import matplotlib.pyplot as plt\n",
        "\n",
        "from darts import TimeSeries\n",
        "from darts.models import RNNModel, ExponentialSmoothing, BlockRNNModel\n",
        "from darts.metrics import mape, mse\n",
        "#from darts.utils.statistics import check_seasonality, plot_acf\n",
        "#from darts.datasets import AirPassengersDataset, SunspotsDataset\n",
        "from darts.utils.timeseries_generation import datetime_attribute_timeseries\n",
        "from darts.models import forecasting\n",
        "from darts.dataprocessing.transformers import Scaler, MissingValuesFiller\n",
        "import yfinance as yf\n",
        "\n",
        "\n",
        "TODAY = dt.date.today().strftime(\"%Y-%m-%d\")\n",
        "\n",
        "START =\"2022-05-06\"\n",
        "\n",
        "st.title('Stock Forecast App')\n",
        "\n",
        "stocks = ('AAPL', 'ACN', 'ADBE', 'ADI', 'ADSK', 'AKAM', 'AMAT', 'AMD', 'ANET', 'ANSS', 'AVGO', 'CDNS', 'CDW', 'CRM', 'CSCO', 'CTSH', 'DXC', 'ENPH', 'EPAM', 'FFIV', 'FICO', 'FSLR', 'FTNT', 'GLW', 'INTU', 'IT', 'JNPR', 'KEYS', 'KLAC', 'LRCX', 'MCHP', 'MPWR', 'MSI', 'MU', 'NOW', 'NTAP', 'NVDA', 'NXPI', 'ON', 'PTC', 'QCOM', 'QRVO', 'ROP', 'ROP', 'SEDG', 'SNPS', 'SWKS', 'TEL', 'TER', 'TRMB', 'TXN', 'TYL', 'VRSN', 'ZBRA')\n",
        "selected_stock = st.selectbox('Select the stock you wish to view/predict', stocks)\n",
        "\n",
        "def load_data(ticker):\n",
        "    data = yf.download(ticker, START, TODAY)\n",
        "    data.reset_index(inplace=True)\n",
        "    return data\n",
        "\n",
        "def transform_data(ticker):\n",
        "    aapl= yf.Ticker(ticker)\n",
        "    df = aapl.history(start=\"2022-04-01\", end=\"2023-04-01\", interval=\"1d\")\n",
        "    idx = pd.date_range(start='2022-04-01', end='2023-04-01')\n",
        "    df.index = pd.DatetimeIndex(df.index)\n",
        "    df.index = df.index.tz_localize(None) \n",
        "    df = df.reindex(idx, method = 'pad')\n",
        "    series = TimeSeries.from_dataframe(df)\n",
        "    adj_series = series.drop_columns(['Open', 'High', 'Low', 'Volume', 'Dividends', 'Stock Splits'])\n",
        "    return adj_series\n",
        "\n",
        "data_load_state = st.text('Loading data...')\n",
        "data = load_data(selected_stock)\n",
        "data_load_state.text('Loading data... done!')\n",
        "\n",
        "transform_data_state = st.text('Transforming data...')\n",
        "transform_data_stock = transform_data(selected_stock)\n",
        "transform_data_state.text('Transforming data...done')\n",
        "\n",
        "st.subheader('Raw data')\n",
        "st.write(data.tail())\n",
        "st.subheader('Transformed data')\n",
        "st.write(transform_data_stock)\n"
      ]
    },
    {
      "cell_type": "code",
      "source": [
        "import torch\n",
        "import torch.nn as nn\n",
        "import torch.optim as optim\n",
        "import numpy as np\n",
        "import pandas as pd\n",
        "#import shutil\n",
        "from sklearn.preprocessing import MinMaxScaler\n",
        "#from tqdm import tqdm_notebook as tqdm\n",
        "import matplotlib.pyplot as plt\n",
        "\n",
        "from darts import TimeSeries\n",
        "from darts.models import RNNModel, ExponentialSmoothing, BlockRNNModel\n",
        "from darts.metrics import mape, mse\n",
        "#from darts.utils.statistics import check_seasonality, plot_acf\n",
        "#from darts.datasets import AirPassengersDataset, SunspotsDataset\n",
        "from darts.utils.timeseries_generation import datetime_attribute_timeseries\n",
        "from darts.models import forecasting\n",
        "from darts.dataprocessing.transformers import Scaler, MissingValuesFiller\n",
        "\n",
        "import yfinance as yf\n",
        "aapl= yf.Ticker(selected_stock)\n",
        "df = aapl.history(start=\"2022-04-01\", end=\"2023-04-01\", interval=\"1d\")\n",
        "\n",
        "# data.reset_index(inplace=True)\n",
        "# data = data[['Date', 'Close']]\n",
        "\n",
        "idx = pd.date_range(start='2022-04-01', end='2023-04-01')\n",
        "df.index = pd.DatetimeIndex(df.index)\n",
        "df.index = df.index.tz_localize(None) \n",
        "# # #df['Date'] = pd.to_datetime(df['Date'])\n",
        "# # #print(df)\n",
        "# # #df.set_index='Date'\n",
        "# # #print(df)\n",
        "# # df.index = pd.DatetimeIndex(df.index)\n",
        "# # print(df)\n",
        "df = df.reindex(idx, method = 'pad')\n",
        "print(df)"
      ],
      "metadata": {
        "colab": {
          "base_uri": "https://localhost:8080/",
          "height": 236
        },
        "id": "NsyjYrB34Q1F",
        "outputId": "cfac1a8e-06ca-4cab-8744-94500e5c8a1b"
      },
      "execution_count": 5,
      "outputs": [
        {
          "output_type": "error",
          "ename": "NameError",
          "evalue": "ignored",
          "traceback": [
            "\u001b[0;31m---------------------------------------------------------------------------\u001b[0m",
            "\u001b[0;31mNameError\u001b[0m                                 Traceback (most recent call last)",
            "\u001b[0;32m<ipython-input-5-15034f65e83b>\u001b[0m in \u001b[0;36m<cell line: 21>\u001b[0;34m()\u001b[0m\n\u001b[1;32m     19\u001b[0m \u001b[0;34m\u001b[0m\u001b[0m\n\u001b[1;32m     20\u001b[0m \u001b[0;32mimport\u001b[0m \u001b[0myfinance\u001b[0m \u001b[0;32mas\u001b[0m \u001b[0myf\u001b[0m\u001b[0;34m\u001b[0m\u001b[0;34m\u001b[0m\u001b[0m\n\u001b[0;32m---> 21\u001b[0;31m \u001b[0maapl\u001b[0m\u001b[0;34m=\u001b[0m \u001b[0myf\u001b[0m\u001b[0;34m.\u001b[0m\u001b[0mTicker\u001b[0m\u001b[0;34m(\u001b[0m\u001b[0mselected_stock\u001b[0m\u001b[0;34m)\u001b[0m\u001b[0;34m\u001b[0m\u001b[0;34m\u001b[0m\u001b[0m\n\u001b[0m\u001b[1;32m     22\u001b[0m \u001b[0mdf\u001b[0m \u001b[0;34m=\u001b[0m \u001b[0maapl\u001b[0m\u001b[0;34m.\u001b[0m\u001b[0mhistory\u001b[0m\u001b[0;34m(\u001b[0m\u001b[0mstart\u001b[0m\u001b[0;34m=\u001b[0m\u001b[0;34m\"2022-04-01\"\u001b[0m\u001b[0;34m,\u001b[0m \u001b[0mend\u001b[0m\u001b[0;34m=\u001b[0m\u001b[0;34m\"2023-04-01\"\u001b[0m\u001b[0;34m,\u001b[0m \u001b[0minterval\u001b[0m\u001b[0;34m=\u001b[0m\u001b[0;34m\"1d\"\u001b[0m\u001b[0;34m)\u001b[0m\u001b[0;34m\u001b[0m\u001b[0;34m\u001b[0m\u001b[0m\n\u001b[1;32m     23\u001b[0m \u001b[0;34m\u001b[0m\u001b[0m\n",
            "\u001b[0;31mNameError\u001b[0m: name 'selected_stock' is not defined"
          ]
        }
      ]
    },
    {
      "cell_type": "code",
      "source": [
        "series = TimeSeries.from_dataframe(df)\n",
        "\n",
        "adj_series = series.drop_columns(['Open', 'High', 'Low', 'Volume', 'Dividends', 'Stock Splits'])\n",
        "training, validation = adj_series.split_after(0.8)\n",
        "\n",
        "from darts.dataprocessing.transformers import Scaler\n",
        "transformer = Scaler()\n",
        "train_transformed = transformer.fit_transform(training)\n",
        "val_transformed = transformer.transform(validation)\n",
        "series_transformed = transformer.transform(adj_series)\n",
        "\n"
      ],
      "metadata": {
        "id": "_Ac2UAvv5c77"
      },
      "execution_count": 19,
      "outputs": []
    },
    {
      "cell_type": "code",
      "source": [
        "my_model = RNNModel(\n",
        "    model=\"LSTM\",\n",
        "    n_rnn_layers = 3,\n",
        "    hidden_dim=4,\n",
        "    dropout=0,\n",
        "    batch_size=16,\n",
        "    n_epochs=10,\n",
        "    optimizer_kwargs={\"lr\": 1e-3},\n",
        "    model_name=\"Air_RNN\",\n",
        "    log_tensorboard=True,\n",
        "    random_state=42,\n",
        "    training_length=20,\n",
        "    input_chunk_length=3,\n",
        "    force_reset=True,\n",
        "    save_checkpoints=True,\n",
        ")\n",
        "my_model.fit(train_transformed)"
      ],
      "metadata": {
        "id": "bOvS0Bmh56he"
      },
      "execution_count": null,
      "outputs": []
    },
    {
      "cell_type": "code",
      "execution_count": 32,
      "metadata": {
        "colab": {
          "base_uri": "https://localhost:8080/"
        },
        "id": "Fen6szPa2R-N",
        "outputId": "77374d78-f5ee-4141-dd16-430d15b43916"
      },
      "outputs": [
        {
          "output_type": "stream",
          "name": "stdout",
          "text": [
            "\u001b[K\u001b[?25h\u001b[37;40mnpm\u001b[0m \u001b[0m\u001b[30;43mWARN\u001b[0m \u001b[0m\u001b[35msaveError\u001b[0m ENOENT: no such file or directory, open '/content/package.json'\n",
            "\u001b[0m\u001b[37;40mnpm\u001b[0m \u001b[0m\u001b[30;43mWARN\u001b[0m \u001b[0m\u001b[35menoent\u001b[0m ENOENT: no such file or directory, open '/content/package.json'\n",
            "\u001b[0m\u001b[37;40mnpm\u001b[0m \u001b[0m\u001b[30;43mWARN\u001b[0m\u001b[35m\u001b[0m content No description\n",
            "\u001b[0m\u001b[37;40mnpm\u001b[0m \u001b[0m\u001b[30;43mWARN\u001b[0m\u001b[35m\u001b[0m content No repository field.\n",
            "\u001b[0m\u001b[37;40mnpm\u001b[0m \u001b[0m\u001b[30;43mWARN\u001b[0m\u001b[35m\u001b[0m content No README data\n",
            "\u001b[0m\u001b[37;40mnpm\u001b[0m \u001b[0m\u001b[30;43mWARN\u001b[0m\u001b[35m\u001b[0m content No license field.\n",
            "\u001b[0m\n",
            "\u001b[K\u001b[?25h+ localtunnel@2.0.2\n",
            "updated 1 package and audited 36 packages in 1.079s\n",
            "\n",
            "3 packages are looking for funding\n",
            "  run `npm fund` for details\n",
            "\n",
            "found \u001b[92m0\u001b[0m vulnerabilities\n",
            "\n"
          ]
        }
      ],
      "source": [
        "!npm install localtunnel"
      ]
    },
    {
      "cell_type": "code",
      "execution_count": 33,
      "metadata": {
        "id": "kA9aRZ-V2Xfk"
      },
      "outputs": [],
      "source": [
        "!streamlit run /content/app.py &>/content/logs.txt &"
      ]
    },
    {
      "cell_type": "code",
      "execution_count": 34,
      "metadata": {
        "colab": {
          "base_uri": "https://localhost:8080/"
        },
        "id": "CPXlp_hX2a96",
        "outputId": "68f03bdf-eeaf-49f6-9d6f-8062f9a3c747"
      },
      "outputs": [
        {
          "output_type": "stream",
          "name": "stdout",
          "text": [
            "\u001b[K\u001b[?25hnpx: installed 22 in 2.461s\n",
            "your url is: https://tricky-rats-search.loca.lt\n",
            "^C\n"
          ]
        }
      ],
      "source": [
        "!npx localtunnel --port 8501"
      ]
    }
  ],
  "metadata": {
    "colab": {
      "provenance": []
    },
    "kernelspec": {
      "display_name": "Python 3",
      "name": "python3"
    },
    "language_info": {
      "name": "python"
    }
  },
  "nbformat": 4,
  "nbformat_minor": 0
}